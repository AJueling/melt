{
 "cells": [
  {
   "cell_type": "code",
   "execution_count": null,
   "id": "8e8181dd-41ec-4f45-9c45-d7ee35bba5dd",
   "metadata": {},
   "outputs": [],
   "source": [
    "import os\n",
    "import sys\n",
    "sys.path.append('..')\n",
    "import numpy as np\n",
    "import matplotlib.pyplot as plt"
   ]
  },
  {
   "cell_type": "code",
   "execution_count": null,
   "id": "f2f7e7b1-6b74-4e57-837f-eb15b27b59a1",
   "metadata": {},
   "outputs": [],
   "source": [
    "from ideal_geometry import IdealGeometry\n",
    "from forcing import Forcing\n",
    "from Simple import SimpleModels"
   ]
  },
  {
   "cell_type": "code",
   "execution_count": null,
   "id": "5bafafa6-85d2-4b41-8684-45053d187ce3",
   "metadata": {},
   "outputs": [],
   "source": [
    "ds = IdealGeometry('test3').create()\n",
    "pdict = dict(Tdeep=-2, ztcl=500)\n",
    "ds = Forcing(ds).tanh(**pdict);\n",
    "ds = SimpleModels(ds).compute()"
   ]
  },
  {
   "cell_type": "code",
   "execution_count": null,
   "id": "a8e34d77-b0f4-48cc-97e5-5bd30c24ed5d",
   "metadata": {},
   "outputs": [],
   "source": [
    "f, ax = plt.subplots(4,4, figsize=(12,15), constrained_layout=True)\n",
    "for i, q in enumerate(['draft','p','mask','box','alpha','dgrl','grl_adv','Tf','Ta','Sa','dT','Ml','Mq','Mp',]):\n",
    "    if i<10:  ax_ = ax[i//4,i%4]\n",
    "    else:     ax_ = ax[-1,i-10]\n",
    "    im = ax_.pcolormesh(np.linspace(0,100,31),np.linspace(0,100,31), ds[q], offsets=[-1500,-1500])\n",
    "    if 'long_name' in ds[q].attrs:  label = ds[q].long_name[:30]\n",
    "    else:                           label = q\n",
    "    if 'units' in ds[q].attrs:      label = f'{label} [{ds[q].units}]'\n",
    "    f.colorbar(im, ax=ax_, orientation='horizontal', label=label)\n",
    "    \n",
    "for i, q in enumerate(['Tz','Sz']):\n",
    "    ax_ = ax[-2,-2+i]\n",
    "    ax_.plot(ds[q], ds.z)\n",
    "    ax_.set_xlabel(f'{q} [{[\"degC\",\"psu\"][i]}]')\n",
    "    ax_.set_ylabel('depth [m]')\n",
    "    ax_.set_ylim([-900,0])\n",
    "for i in range(4):\n",
    "    for j in range(4):\n",
    "        ax[i,j].text(.02,.9,'abcdefghijklmnop'[4*i+j], transform=ax[i,j].transAxes, fontsize=20)\n",
    "    \n",
    "f.suptitle('Simple melt parametrizations example', fontsize=16)\n",
    "f.savefig('../../results/example/Simple_tanh_test3.png')"
   ]
  },
  {
   "cell_type": "code",
   "execution_count": null,
   "id": "7d46047d-6ce0-4359-b1fa-b19d28d5c9ec",
   "metadata": {},
   "outputs": [],
   "source": []
  }
 ],
 "metadata": {
  "kernelspec": {
   "display_name": "Python 3",
   "language": "python",
   "name": "python3"
  },
  "language_info": {
   "codemirror_mode": {
    "name": "ipython",
    "version": 3
   },
   "file_extension": ".py",
   "mimetype": "text/x-python",
   "name": "python",
   "nbconvert_exporter": "python",
   "pygments_lexer": "ipython3",
   "version": "3.9.5"
  }
 },
 "nbformat": 4,
 "nbformat_minor": 5
}
