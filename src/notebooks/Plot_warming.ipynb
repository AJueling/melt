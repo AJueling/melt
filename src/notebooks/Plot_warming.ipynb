{
 "cells": [
  {
   "cell_type": "code",
   "execution_count": null,
   "metadata": {},
   "outputs": [],
   "source": [
    "import sys\n",
    "import numpy as np\n",
    "import xarray as xr\n",
    "import pyproj\n",
    "import matplotlib as mpl\n",
    "import matplotlib.pyplot as plt\n",
    "from mpl_toolkits.axes_grid1 import make_axes_locatable\n",
    "from mpl_toolkits.axes_grid1.inset_locator import inset_axes\n",
    "import cmocean as cmo\n",
    "import cartopy.crs as ccrs\n",
    "\n",
    "sys.path.append(\"..\")\n",
    "\n",
    "from plotfunctions import *\n",
    "\n",
    "np.seterr(all='ignore')\n",
    "import warnings\n",
    "warnings.filterwarnings(\"ignore\")\n",
    "\n",
    "%matplotlib notebook\n",
    "%matplotlib inline\n",
    "%config InlineBackend.print_figure_kwargs={'bbox_inches':None}\n",
    "%load_ext autoreload\n",
    "%autoreload 2"
   ]
  },
  {
   "cell_type": "code",
   "execution_count": null,
   "metadata": {},
   "outputs": [],
   "source": [
    "mpl.rcParams['figure.subplot.bottom'] = .15\n",
    "mpl.rcParams['figure.subplot.top']    = .94\n",
    "mpl.rcParams['figure.subplot.left']   = .01\n",
    "mpl.rcParams['figure.subplot.right']  = .99\n",
    "mpl.rcParams['figure.subplot.wspace'] = .02\n",
    "mpl.rcParams['figure.subplot.hspace'] = .0"
   ]
  },
  {
   "cell_type": "code",
   "execution_count": null,
   "metadata": {},
   "outputs": [],
   "source": [
    "\"\"\"Locations for text\"\"\"\n",
    "plon,plat = {},{}\n",
    "plon['CrossDots'] = 250.5\n",
    "plat['CrossDots'] = -74.4\n",
    "plon['Thwaites_e'] = 253.5\n",
    "plat['Thwaites_e'] = -74.5\n",
    "plon['PineIsland'] = 257\n",
    "plat['PineIsland'] = -74.8"
   ]
  },
  {
   "cell_type": "code",
   "execution_count": null,
   "metadata": {},
   "outputs": [],
   "source": [
    "def printvals(ax,geom,dmelt):\n",
    "    ax.text(plon[geom],plat[geom],f'+{np.nanmean(dmelt):.1f}',transform=ccrs.PlateCarree(),c='w',ha='center')"
   ]
  },
  {
   "cell_type": "code",
   "execution_count": null,
   "metadata": {},
   "outputs": [],
   "source": [
    "#Results date\n",
    "#date = '2021_02_03/'\n",
    "date = ''\n",
    "\n",
    "#Extension for filename\n",
    "#ext = ''\n",
    "ext = '_lowvis'"
   ]
  },
  {
   "cell_type": "code",
   "execution_count": null,
   "metadata": {},
   "outputs": [],
   "source": [
    "fig = plt.figure(figsize=(8,7))\n",
    "proj = ccrs.SouthPolarStereo(true_scale_latitude=-75,central_longitude=-13)\n",
    "\n",
    "ax1 = fig.add_subplot(141,projection=proj)\n",
    "makebackground(ax1)\n",
    "ax1.set_title('a) Plume',loc='left')\n",
    "ax2 = fig.add_subplot(142,projection=proj)\n",
    "makebackground(ax2)\n",
    "ax2.set_title('b) PICO',loc='left')\n",
    "ax3 = fig.add_subplot(143,projection=proj)\n",
    "makebackground(ax3)\n",
    "ax3.set_title('c) PICOP',loc='left')\n",
    "ax4 = fig.add_subplot(144,projection=proj)\n",
    "makebackground(ax4)\n",
    "ax4.set_title('d) Layer',loc='left')\n",
    "\n",
    "\"\"\"Layer\"\"\"\n",
    "\n",
    "for geom in ['Thwaites_e','PineIsland','CrossDots']:\n",
    "    ds = xr.open_dataset(f'../../results/{date}Layer_{geom}_tanh_Tdeep1.5_ztcl-550.nc')   \n",
    "    melt1 = ds.melt\n",
    "    ds = xr.open_dataset(f'../../results/{date}Layer_{geom}_tanh_Tdeep0.5_ztcl-550.nc')  \n",
    "    ds = add_lonlat(ds)\n",
    "    melt2 = ds.melt\n",
    "    dmelt = np.where(ds.mask==3,melt1-melt2,np.nan)    \n",
    "    printvals(ax4,geom,dmelt)\n",
    "    IM = plotdiffmelt(ax4,ds.lon,ds.lat,dmelt)\n",
    "\n",
    "\"\"\"Colorbar\"\"\"\n",
    "ax = fig.add_subplot(141)\n",
    "ax.set_visible(False)\n",
    "axins = inset_axes(ax,width=\"400%\",height=\"4%\",loc='lower left',bbox_to_anchor=(0.,-.08, 1, 1),bbox_transform=ax.transAxes,borderpad=0)\n",
    "cbar = plt.colorbar(IM, cax=axins,extend='max',orientation='horizontal')\n",
    "\n",
    "cbar.set_label('Melt rate increase [m/yr]', labelpad=0)\n",
    "\n",
    "\"\"\"Save figure\"\"\"\n",
    "plt.savefig(f\"../../figures/Warming{ext}.png\",dpi=300)\n",
    "plt.show()"
   ]
  },
  {
   "cell_type": "code",
   "execution_count": null,
   "metadata": {},
   "outputs": [],
   "source": []
  }
 ],
 "metadata": {
  "kernelspec": {
   "display_name": "Python 3",
   "language": "python",
   "name": "python3"
  },
  "language_info": {
   "codemirror_mode": {
    "name": "ipython",
    "version": 3
   },
   "file_extension": ".py",
   "mimetype": "text/x-python",
   "name": "python",
   "nbconvert_exporter": "python",
   "pygments_lexer": "ipython3",
   "version": "3.8.5"
  }
 },
 "nbformat": 4,
 "nbformat_minor": 4
}
