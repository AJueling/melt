{
 "cells": [
  {
   "cell_type": "markdown",
   "metadata": {},
   "source": [
    "# Model Intercomparison"
   ]
  },
  {
   "cell_type": "code",
   "execution_count": null,
   "metadata": {},
   "outputs": [],
   "source": [
    "import sys\n",
    "import numpy as np\n",
    "import xarray as xr\n",
    "import matplotlib.pyplot as plt\n",
    "\n",
    "sys.path.append('..')\n",
    "\n",
    "from ideal_geometry import IdealGeometry\n",
    "from Plume import PlumeModel\n",
    "from PICO import PicoModel\n",
    "from PICOP import PicoPlumeModel\n",
    "\n",
    "%config InlineBackend.print_figure_kwargs={'bbox_inches':None}\n",
    "%load_ext autoreload\n",
    "%autoreload 2"
   ]
  },
  {
   "cell_type": "markdown",
   "metadata": {},
   "source": [
    "## Experiment 1: melt rated for reference setups `test1` and `test3`"
   ]
  },
  {
   "cell_type": "code",
   "execution_count": null,
   "metadata": {},
   "outputs": [],
   "source": [
    "from ideal_geometry import cases\n",
    "from real_geometry import glaciers"
   ]
  },
  {
   "cell_type": "code",
   "execution_count": null,
   "metadata": {},
   "outputs": [],
   "source": [
    "# 1D plume model\n"
   ]
  },
  {
   "cell_type": "markdown",
   "metadata": {},
   "source": [
    "## in idealidimed geometries: need to assign boxes, calc box area"
   ]
  },
  {
   "cell_type": "code",
   "execution_count": null,
   "metadata": {},
   "outputs": [],
   "source": [
    "models = ['Plume', 'PICO', 'PICOP']\n",
    "kw = dict(vmin=0, vmax=50, shading='auto', cmap='plasma')\n",
    "\n",
    "f, ax = plt.subplots(3,len(models)+1, figsize=(12,9), sharey=True, sharex=True)\n",
    "ax[0,0].set_title('draft')\n",
    "for i, testcase in enumerate(['test1', 'test2', 'test3']):\n",
    "#     print('\\n', testcase, '\\n')\n",
    "    ds = IdealGeometry(testcase).create()\n",
    "    ax[i,0].pcolormesh(ds.x/1e3, ds.y/1e3, ds.draft, shading='auto', vmin=-1000, vmax=-500)\n",
    "    ax[i,0].set_ylabel('y  [km]')\n",
    "    for j, model in enumerate(models):\n",
    "        if i==0:  ax[0,j+1].set_title(model)\n",
    "        if model=='Plume':\n",
    "            results = PlumeModel(ds).compute_plume()\n",
    "            ax[i,j+1].pcolormesh(results.x/1e3, results.y/1e3, results.m, **kw)\n",
    "            melt = results.m.mean().values\n",
    "        elif model=='PICO':\n",
    "            _, results = PicoModel(name=testcase).compute_pico()\n",
    "            ax[i,j+1].pcolormesh(results.x/1e3, results.y/1e3, results.melt, **kw)\n",
    "            melt = results.melt.mean().values\n",
    "#             print(f'({results.mk[0].values:.1f} from within PICO)')            \n",
    "        elif model=='PICOP':\n",
    "            _, _, results = PicoPlumeModel(name=testcase, n=3).compute_picop()\n",
    "            ax[i,j+1].pcolormesh(results.x/1e3, results.y/1e3, results.m, **kw)\n",
    "            melt = results.m.mean().values\n",
    "        ax[i,j+1].text(.95,.9, f'{melt:.2f} m/yr', transform=ax[i,j+1].transAxes, ha='right', color='w', fontsize=12)\n",
    "            \n",
    "for j in range(4):\n",
    "    ax[-1,j].set_xlabel('x  [km]')\n"
   ]
  },
  {
   "cell_type": "code",
   "execution_count": null,
   "metadata": {},
   "outputs": [],
   "source": []
  }
 ],
 "metadata": {
  "kernelspec": {
   "display_name": "Python 3",
   "language": "python",
   "name": "python3"
  },
  "language_info": {
   "codemirror_mode": {
    "name": "ipython",
    "version": 3
   },
   "file_extension": ".py",
   "mimetype": "text/x-python",
   "name": "python",
   "nbconvert_exporter": "python",
   "pygments_lexer": "ipython3",
   "version": "3.8.6"
  }
 },
 "nbformat": 4,
 "nbformat_minor": 4
}
