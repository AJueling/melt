{
 "cells": [
  {
   "cell_type": "markdown",
   "metadata": {},
   "source": [
    "# Model Intercomparison"
   ]
  },
  {
   "cell_type": "code",
   "execution_count": null,
   "metadata": {},
   "outputs": [],
   "source": [
    "import sys\n",
    "import numpy as np\n",
    "import xarray as xr\n",
    "import matplotlib.pyplot as plt\n",
    "\n",
    "sys.path.append('..')\n",
    "\n",
    "from ideal_geometry import IdealGeometry\n",
    "from Plume import PlumeModel\n",
    "from PICO import PicoModel\n",
    "from PICOP import PicoPlumeModel\n",
    "\n",
    "%config InlineBackend.print_figure_kwargs={'bbox_inches':None}\n",
    "%load_ext autoreload\n",
    "%autoreload 2"
   ]
  },
  {
   "cell_type": "markdown",
   "metadata": {},
   "source": [
    "## Experiment 1: melt rated for reference setups `test1` and `test3`"
   ]
  },
  {
   "cell_type": "code",
   "execution_count": null,
   "metadata": {},
   "outputs": [],
   "source": [
    "from ideal_geometry import cases\n",
    "from real_geometry import glaciers"
   ]
  },
  {
   "cell_type": "code",
   "execution_count": null,
   "metadata": {
    "jupyter": {
     "source_hidden": true
    }
   },
   "outputs": [],
   "source": [
    "# 1D plume model\n"
   ]
  },
  {
   "cell_type": "code",
   "execution_count": null,
   "metadata": {
    "jupyter": {
     "outputs_hidden": true,
     "source_hidden": true
    }
   },
   "outputs": [],
   "source": [
    "models = ['Plume', 'PICO', 'PICOP']\n",
    "kw = dict(vmin=0, vmax=50, shading='auto', cmap='plasma')\n",
    "\n",
    "f, ax = plt.subplots(3,len(models)+1, figsize=(12,9), sharey=True, sharex=True)\n",
    "ax[0,0].set_title('draft')\n",
    "for i, testcase in enumerate(['test1', 'test2', 'test3']):\n",
    "#     print('\\n', testcase, '\\n')\n",
    "    ds = IdealGeometry(testcase).create()\n",
    "    ax[i,0].pcolormesh(ds.x/1e3, ds.y/1e3, ds.draft, shading='auto', vmin=-1000, vmax=-500)\n",
    "    ax[i,0].set_ylabel('y  [km]')\n",
    "    for j, model in enumerate(models):\n",
    "        if i==0:  ax[0,j+1].set_title(model)\n",
    "        if model=='Plume':\n",
    "            results = PlumeModel(ds).compute_plume()\n",
    "            ax[i,j+1].pcolormesh(results.x/1e3, results.y/1e3, results.m, **kw)\n",
    "            melt = results.m.mean().values\n",
    "        elif model=='PICO':\n",
    "            _, results = PicoModel(name=testcase).compute_pico()\n",
    "            ax[i,j+1].pcolormesh(results.x/1e3, results.y/1e3, results.melt, **kw)\n",
    "            melt = results.melt.mean().values\n",
    "#             print(f'({results.mk[0].values:.1f} from within PICO)')            \n",
    "        elif model=='PICOP':\n",
    "            _, _, results = PicoPlumeModel(name=testcase, n=3).compute_picop()\n",
    "            ax[i,j+1].pcolormesh(results.x/1e3, results.y/1e3, results.m, **kw)\n",
    "            melt = results.m.mean().values\n",
    "        ax[i,j+1].text(.95,.9, f'{melt:.2f} m/yr', transform=ax[i,j+1].transAxes, ha='right', color='w', fontsize=12)\n",
    "            \n",
    "for j in range(4):\n",
    "    ax[-1,j].set_xlabel('x  [km]')\n"
   ]
  },
  {
   "cell_type": "code",
   "execution_count": null,
   "metadata": {
    "jupyter": {
     "source_hidden": true
    }
   },
   "outputs": [],
   "source": [
    "models = ['Plume', 'PICO', 'PICOP', 'Sheet']\n",
    "kw = dict(vmin=0, vmax=50, shading='auto', cmap='plasma')\n",
    "\n",
    "f, ax = plt.subplots(3,len(models)+1, figsize=(15,9), sharey=True, sharex=True)\n",
    "ax[0,0].set_title('draft')\n",
    "for i, testcase in enumerate(['test1', 'test2', 'test3']):\n",
    "    ds = IdealGeometry(testcase).create()\n",
    "    ax[i,0].pcolormesh(ds.x/1e3, ds.y/1e3, ds.draft, shading='auto', vmin=-1000, vmax=-500)\n",
    "    ax[i,0].set_ylabel('y  [km]')\n",
    "    for j, model in enumerate(models):\n",
    "#         if j<3:  continue\n",
    "        if i==0:  ax[0,j+1].set_title(model)\n",
    "        if model=='Plume':\n",
    "            results = PlumeModel(ds).compute_plume()\n",
    "            ax[i,j+1].pcolormesh(results.x/1e3, results.y/1e3, results.m, **kw)\n",
    "            melt = results.m.mean().values\n",
    "        elif model=='PICO':\n",
    "            _, results = PicoModel(name=testcase).compute_pico()\n",
    "            ax[i,j+1].pcolormesh(results.x/1e3, results.y/1e3, results.melt, **kw)\n",
    "            melt = results.melt.mean().values\n",
    "            # print(f'({results.mk[0].values:.1f} from within PICO)')            \n",
    "        elif model=='PICOP':\n",
    "            _, _, results = PicoPlumeModel(name=testcase, n=3).compute_picop()\n",
    "            ax[i,j+1].pcolormesh(results.x/1e3, results.y/1e3, results.m, **kw)\n",
    "            melt = results.m.mean().values\n",
    "        elif model=='Sheet':\n",
    "            if i==1: continue\n",
    "            results = xr.open_dataset(f'../../results/Sheet/Sheet_T0_S34_{testcase}.nc')\n",
    "            ax[i,j+1].pcolormesh(results.x/1e3, results.y/1e3, results.melt*3600*24*365, **kw)\n",
    "            melt = results.melt.mean().values*3600*24*365\n",
    "        ax[i,j+1].text(.95,.9, f'{melt:.2f} m/yr', transform=ax[i,j+1].transAxes, ha='right', color='w', fontsize=12)\n",
    "            \n",
    "for j in range(4):\n",
    "    ax[-1,j].set_xlabel('x  [km]')\n"
   ]
  },
  {
   "cell_type": "markdown",
   "metadata": {},
   "source": [
    "## temperature dependence"
   ]
  },
  {
   "cell_type": "code",
   "execution_count": null,
   "metadata": {
    "jupyter": {
     "source_hidden": true
    }
   },
   "outputs": [],
   "source": [
    "# from Erwin's runs\n",
    "sheet = [[ 2.5686432,   6.18703265, 10.25362111, 14.77641703, 19.75861614, 25.19942571, 31.0948176,  37.43819347, 44.22095555],\n",
    "         [ 2.94456839,  7.12903415, 11.71694807, 16.71844499, 22.14056505, 27.98734453, 34.25992276, 40.95688662, 48.0747288 ]]"
   ]
  },
  {
   "cell_type": "code",
   "execution_count": null,
   "metadata": {
    "jupyter": {
     "source_hidden": true
    }
   },
   "outputs": [],
   "source": [
    "f, ax = plt.subplots(1,2,figsize=(10,4), sharey=True, constrained_layout=True)\n",
    "ax[0].set_ylabel('mean melt rate [m/yr]')\n",
    "Tas = np.arange(-2,2.5,.5)\n",
    "for i, testcase in enumerate(['test1', 'test3']):\n",
    "    ref = ax[i].axvspan(-.15,.15, alpha=.1, color='purple', label='reference')\n",
    "    sm = ax[i].scatter(np.arange(-2,2.1,.5), sheet[i], c='k', label='Sheet')\n",
    "    lb, = ax[i].plot(Tas,  7*(Tas+2), c='lightgrey', label='7 m/yr/K')\n",
    "    ub, = ax[i].plot(Tas, 16*(Tas+2), c='darkgrey', label='16 m/yr/K')\n",
    "    ax[i].set_title(testcase)\n",
    "    ax[i].set_xlabel(r'ambient temperature [$^\\circ$C]')\n",
    "    for T in Tas:\n",
    "        handles = []\n",
    "        for j, model in enumerate(models):\n",
    "            if model=='Plume':\n",
    "                c = 'C0'\n",
    "                pdict={'Ta':T}\n",
    "                ds = IdealGeometry(name=testcase, pdict=pdict).create()\n",
    "                results = PlumeModel(ds).compute_plume()\n",
    "                melt = results.m.mean().values\n",
    "            elif model=='PICO':\n",
    "                c = 'C1'\n",
    "                _, results = PicoModel(name=testcase, Ta=T).compute_pico()\n",
    "                melt = results.melt.mean().values\n",
    "            elif model=='PICOP':\n",
    "                c = 'C2'\n",
    "                _, _, results = PicoPlumeModel(name=testcase, Ta=T, n=3).compute_picop()\n",
    "                melt = results.m.mean().values\n",
    "            s = ax[i].scatter(T, melt, c=c, label=model)\n",
    "            handles.append(s)\n",
    "    ax[i].legend(handles=[ref]+handles[:3]+[sm,lb,ub])"
   ]
  },
  {
   "cell_type": "code",
   "execution_count": null,
   "metadata": {},
   "outputs": [],
   "source": []
  }
 ],
 "metadata": {
  "kernelspec": {
   "display_name": "Python 3",
   "language": "python",
   "name": "python3"
  },
  "language_info": {
   "codemirror_mode": {
    "name": "ipython",
    "version": 3
   },
   "file_extension": ".py",
   "mimetype": "text/x-python",
   "name": "python",
   "nbconvert_exporter": "python",
   "pygments_lexer": "ipython3",
   "version": "3.8.6"
  }
 },
 "nbformat": 4,
 "nbformat_minor": 4
}
