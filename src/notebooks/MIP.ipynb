{
 "cells": [
  {
   "cell_type": "markdown",
   "metadata": {},
   "source": [
    "# Model Intercomparison"
   ]
  },
  {
   "cell_type": "code",
   "execution_count": null,
   "metadata": {},
   "outputs": [],
   "source": [
    "import sys\n",
    "import numpy as np\n",
    "import xarray as xr\n",
    "import cartopy.crs as ccrs\n",
    "import geopandas\n",
    "import matplotlib\n",
    "import matplotlib.pyplot as plt\n",
    "\n",
    "sys.path.append('..')\n",
    "\n",
    "from forcing import Forcing\n",
    "from real_geometry import RealGeometry, glaciers\n",
    "from ideal_geometry import IdealGeometry\n",
    "from Plume import PlumeModel\n",
    "from PICO import PicoModel\n",
    "from PICOP import PicoPlumeModel\n",
    "from Simple import SimpleModels\n",
    "\n",
    "%config InlineBackend.print_figure_kwargs={'bbox_inches':None}\n",
    "%load_ext autoreload\n",
    "%autoreload 2"
   ]
  },
  {
   "cell_type": "markdown",
   "metadata": {},
   "source": [
    "## Experiment 1: melt rated for reference setups `test1` and `test3`"
   ]
  },
  {
   "cell_type": "code",
   "execution_count": null,
   "metadata": {
    "jupyter": {
     "outputs_hidden": true
    }
   },
   "outputs": [],
   "source": [
    "# 1D plume model\n",
    "N = 101\n",
    "pdict = {'x':np.linspace(0,1e5,N), 'draft':np.linspace(-1000,-500,N), 'Ta':0, 'Sa':34}  # [m]\n",
    "dp = IdealGeometry('plume1D', pdict).create()\n",
    "ds_ = PlumeModel(dp).compute_plume(full_nondim=True)\n",
    "plt.plot(ds_.x/1e3, ds_.m, label='reference 1D')\n",
    "for i, testcase in enumerate(['test1', 'test3']):\n",
    "    dp = IdealGeometry(testcase).create()\n",
    "    ds = PlumeModel(dp).compute_plume()\n",
    "    plt.plot(ds.x/1e3,ds.m.mean('y')+i, label=testcase)\n",
    "plt.legend()"
   ]
  },
  {
   "cell_type": "code",
   "execution_count": null,
   "metadata": {
    "jupyter": {
     "outputs_hidden": true
    }
   },
   "outputs": [],
   "source": [
    "models = ['Plume', 'PICO', 'PICOP']\n",
    "kw = dict(vmin=0, vmax=50, shading='auto', cmap='plasma')\n",
    "\n",
    "f, ax = plt.subplots(3,len(models)+1, figsize=(12,9), sharey=True, sharex=True)\n",
    "ax[0,0].set_title('draft')\n",
    "for i, testcase in enumerate(['test1', 'test2', 'test3']):\n",
    "#     print('\\n', testcase, '\\n')\n",
    "    ds = IdealGeometry(testcase).create()\n",
    "    ax[i,0].pcolormesh(ds.x/1e3, ds.y/1e3, ds.draft, shading='auto', vmin=-1000, vmax=-500)\n",
    "    ax[i,0].set_ylabel('y  [km]')\n",
    "    for j, model in enumerate(models):\n",
    "        if i==0:  ax[0,j+1].set_title(model)\n",
    "        if model=='Plume':\n",
    "            results = PlumeModel(ds).compute_plume()\n",
    "            ax[i,j+1].pcolormesh(results.x/1e3, results.y/1e3, results.m, **kw)\n",
    "            melt = results.m.mean().values\n",
    "        elif model=='PICO':\n",
    "            _, results = PicoModel(name=testcase).compute_pico()\n",
    "            ax[i,j+1].pcolormesh(results.x/1e3, results.y/1e3, results.melt, **kw)\n",
    "            melt = results.melt.mean().values\n",
    "#             print(f'({results.mk[0].values:.1f} from within PICO)')            \n",
    "        elif model=='PICOP':\n",
    "            _, _, results = PicoPlumeModel(name=testcase, n=3).compute_picop()\n",
    "            ax[i,j+1].pcolormesh(results.x/1e3, results.y/1e3, results.m, **kw)\n",
    "            melt = results.m.mean().values\n",
    "        ax[i,j+1].text(.95,.9, f'{melt:.2f} m/yr', transform=ax[i,j+1].transAxes, ha='right', color='w', fontsize=12)\n",
    "            \n",
    "for j in range(4):\n",
    "    ax[-1,j].set_xlabel('x  [km]')\n"
   ]
  },
  {
   "cell_type": "code",
   "execution_count": null,
   "metadata": {},
   "outputs": [],
   "source": [
    "models = ['Simple', 'Plume', 'PICO', 'PICOP','Sheet']\n",
    "kw = dict(vmin=0, vmax=50, shading='auto', cmap='plasma')\n",
    "\n",
    "f, ax = plt.subplots(2,len(models)+3, figsize=(15,5), sharey=True, sharex=True, constrained_layout=True)\n",
    "ax[0,0].set_title('draft')\n",
    "for i, testcase in enumerate(['test1', 'test3']):  # can test with 'test2' to check equivalence \n",
    "#     print('\\n', testcase, '\\n')\n",
    "    ds = IdealGeometry(testcase).create()\n",
    "    ds = Forcing(ds).constant()  # default Ta=0, Sa=34\n",
    "    ax[i,0].pcolormesh(ds.x/1e3, ds.y/1e3, ds.draft, shading='auto', vmin=-1000, vmax=-500)\n",
    "    ax[i,0].set_ylabel('y  [km]')\n",
    "    for j, model in enumerate(models):\n",
    "        if i==0:\n",
    "            if j==0:\n",
    "                ax[0,1].set_title(r'M$_{lin}$')\n",
    "                ax[0,2].set_title(r'M$_{quad}$')\n",
    "                ax[0,3].set_title(r'M$_{+}$')\n",
    "            else:\n",
    "                ax[0,j+3].set_title(model)\n",
    "                \n",
    "        if model=='Simple':\n",
    "            results = SimpleModels(ds).compute()\n",
    "            ax[i,j+1].pcolormesh(results.x/1e3, results.y/1e3, results.Ml, **kw)\n",
    "            ax[i,j+2].pcolormesh(results.x/1e3, results.y/1e3, results.Mq, **kw)\n",
    "            ax[i,j+3].pcolormesh(results.x/1e3, results.y/1e3, results.Mp, **kw)\n",
    "            ax[i,j+1].text(.95,.9, f'{results.Ml.mean().values:.2f} m/yr', transform=ax[i,j+1].transAxes, ha='right', color='w', fontsize=12)\n",
    "            ax[i,j+2].text(.95,.9, f'{results.Mq.mean().values:.2f} m/yr', transform=ax[i,j+2].transAxes, ha='right', color='w', fontsize=12)\n",
    "            ax[i,j+3].text(.95,.9, f'{results.Mp.mean().values:.2f} m/yr', transform=ax[i,j+3].transAxes, ha='right', color='w', fontsize=12)\n",
    "        elif model=='Plume':\n",
    "            results = PlumeModel(ds).compute_plume()\n",
    "            ax[i,j+3].pcolormesh(results.x/1e3, results.y/1e3, results.m, **kw)\n",
    "            melt = results.m.mean().values\n",
    "        elif model=='PICO':\n",
    "            _, results = PicoModel(ds).compute_pico()\n",
    "            ax[i,j+3].pcolormesh(results.x/1e3, results.y/1e3, results.melt, **kw)\n",
    "            melt = results.melt.mean().values\n",
    "#             print(f'({results.mk[0].values:.1f} from within PICO)')            \n",
    "        elif model=='PICOP':\n",
    "            _, _, results = PicoPlumeModel(ds).compute_picop()\n",
    "            ax[i,j+3].pcolormesh(results.x/1e3, results.y/1e3, results.m, **kw)\n",
    "            melt = results.m.mean().values\n",
    "        elif model=='Sheet':\n",
    "            if testcase=='test2': continue\n",
    "            results = xr.open_dataset(f'../../results/Sheet/Sheet_T0_S34_{testcase}.nc')\n",
    "            ax[i,j+3].pcolormesh(results.x/1e3, results.y/1e3, results.melt*3600*24*365, **kw)\n",
    "            melt = results.melt.mean().values*3600*24*365\n",
    "        if j>0:\n",
    "            ax[i,j+3].text(.95,.9, f'{melt:.2f} m/yr', transform=ax[i,j+3].transAxes, ha='right', color='w', fontsize=12)\n",
    "            \n",
    "for j in range(8):\n",
    "    ax[-1,j].set_xlabel('x  [km]')\n"
   ]
  },
  {
   "cell_type": "markdown",
   "metadata": {},
   "source": [
    "### Amundsen Sea"
   ]
  },
  {
   "cell_type": "code",
   "execution_count": null,
   "metadata": {},
   "outputs": [],
   "source": [
    "proj = ccrs.SouthPolarStereo(true_scale_latitude=-71)\n",
    "def fn_poly(glacier):  return f'../../data/mask_polygons/{glacier}_polygon.geojson'\n",
    "x3, _, _, y4 = geopandas.read_file(fn_poly('PineIsland'), crs='espg:3031').total_bounds\n",
    "_, y3, x4, _ = geopandas.read_file(fn_poly('Dotson')    , crs='espg:3031').total_bounds\n",
    "\n",
    "import matplotlib.ticker as mticker\n",
    "\n",
    "models = ['Simple','Plume','PICO']\n",
    "n = len(models)+1\n",
    "\n",
    "kw = norm=dict(vmin=0.1, vmax=10**2.5, norm=matplotlib.colors.LogNorm(vmin=.1, vmax=10**2.5), cmap='inferno', transform=ccrs.PlateCarree())\n",
    "f = plt.figure(figsize=(15,9))\n",
    "(x1,x2,y1,y2) = (x3,x4,y3-1e4,y4+2e4)\n",
    "shelves = ['PineIsland','Thwaites','Dotson']\n",
    "for s, shelf in enumerate(shelves):\n",
    "    (x,y) = [(.65,.88),(.05,.55),(.05,.2)][s]\n",
    "    name = ['Pine\\nIsland','Thwaites','Dotson/\\nCrosson'][s]\n",
    "    \n",
    "    ds = RealGeometry(shelf).create()\n",
    "    ds['dgrl'] = ds.dglm.copy()\n",
    "    ds = Forcing(ds).tanh(Tdeep=1,ztcl=-600)\n",
    "    lon, lat = ds.lon, ds.lat\n",
    "    for j in range(n):\n",
    "        title = ['draft',r'Simple M$_{+}$','Plume','PICO'][j]\n",
    "        ax = f.add_axes([j/n,.08,.99/n,.89], projection=proj)\n",
    "        ax.set_title(title, fontsize=16)\n",
    "        ax.set_extent([x1,x2,y1,y2], crs=proj)\n",
    "        ax.coastlines(linewidth=.5)\n",
    "        \n",
    "        if j in [0,1]:   # draft + Simple\n",
    "            if j==0:\n",
    "                draft = ax.pcolormesh(lon, lat, ds.draft, \n",
    "                                      vmin=-1600, vmax=-200,\n",
    "                                      transform=ccrs.PlateCarree(), cmap='viridis')\n",
    "            elif j==1:\n",
    "                results = SimpleModels(ds).compute()\n",
    "                im = ax.pcolormesh(lon, lat, results.Mp, **kw)\n",
    "                melt = results.Mp.mean().values\n",
    "        elif j==2: # Plume\n",
    "            results = PlumeModel(ds).compute_plume()\n",
    "            im = ax.pcolormesh(lon, lat, results.m, **kw)\n",
    "            melt = results.m.mean().values\n",
    "            \n",
    "        elif j==3: # PICO\n",
    "            _, results = PicoModel(ds).compute_pico()\n",
    "            im = ax.pcolormesh(lon, lat, results.melt, **kw)\n",
    "            melt = results.melt.mean().values\n",
    "            \n",
    "        gl = ax.gridlines()\n",
    "        gl.xlocator = mticker.FixedLocator(np.arange(-180,179,5))\n",
    "        gl.ylocator = mticker.FixedLocator(np.arange(-89,89))\n",
    "        if j==0:  ax.text(x, y, name, weight='bold', transform=ax.transAxes, fontsize=14)\n",
    "        else:     ax.text(x, y, f'{melt:.1f} m/yr', transform=ax.transAxes, fontsize=14)\n",
    "cax1 = f.add_axes([0.01,.05,.23,.02])\n",
    "plt.colorbar(draft, cax=cax1, orientation='horizontal', label='draft [m]')\n",
    "cax2 = f.add_axes([0.27,.05,.7,.02])\n",
    "plt.colorbar(im, cax=cax2, orientation='horizontal', label='melt rate [m/yr]')\n",
    "#         if j==2:  ax.text(x, y, f'{dsP.mk[0].values:.2f} m/yr', transform=ax.transAxes)"
   ]
  },
  {
   "cell_type": "code",
   "execution_count": null,
   "metadata": {},
   "outputs": [],
   "source": [
    "ds.draft.max()"
   ]
  },
  {
   "cell_type": "code",
   "execution_count": null,
   "metadata": {},
   "outputs": [],
   "source": [
    "f = plt.figure()\n",
    "ax = f.add_axes([j/n,.01,.99/n,.98], projection=proj)\n",
    "# ax.pcolormesh(lon, lat, results.melt, **kw)\n",
    "ax.pcolormesh(lon, lat, results.melt,\n",
    "#               vmin=0.1, vmax=10**2.5,\n",
    "#               norm=matplotlib.colors.LogNorm(vmin=.1, vmax=10**2.5),\n",
    "              cmap='inferno', transform=ccrs.PlateCarree())"
   ]
  },
  {
   "cell_type": "code",
   "execution_count": null,
   "metadata": {},
   "outputs": [],
   "source": [
    "N = 100\n",
    "X, Y = np.mgrid[-3:3:complex(0, N), -2:2:complex(0, N)]\n",
    "\n",
    "# A low hump with a spike coming out of the top right.  Needs to have\n",
    "# z/colour axis on a log scale so we see both hump and spike.  linear\n",
    "# scale only shows the spike.\n",
    "Z1 = np.exp(-(X)**2 - (Y)**2)\n",
    "Z2 = np.exp(-(X * 10)**2 - (Y * 10)**2)\n",
    "Z = Z1 + 50 * Z2\n",
    "\n",
    "fig, ax = plt.subplots(2, 1)\n",
    "\n",
    "pcm = ax[0].pcolor(X, Y, Z,\n",
    "                   norm=matplotlib.colors.LogNorm(vmin=.1, vmax=10**2.5), cmap='inferno')\n",
    "fig.colorbar(pcm, ax=ax[0], extend='max')"
   ]
  },
  {
   "cell_type": "markdown",
   "metadata": {},
   "source": [
    "## temperature dependence"
   ]
  },
  {
   "cell_type": "code",
   "execution_count": null,
   "metadata": {},
   "outputs": [],
   "source": [
    "# # from Erwin's runs 2.11.20\n",
    "# sheet = [[ 2.5686432,   6.18703265, 10.25362111, 14.77641703, 19.75861614, 25.19942571, 31.0948176,  37.43819347, 44.22095555],\n",
    "#          [ 2.94456839,  7.12903415, 11.71694807, 16.71844499, 22.14056505, 27.98734453, 34.25992276, 40.95688662, 48.0747288 ]]"
   ]
  },
  {
   "cell_type": "code",
   "execution_count": null,
   "metadata": {},
   "outputs": [],
   "source": [
    "# from Erwin's runs 3.12.20\n",
    "sheet = [[ 0.27507259, 1.37829108, 3.50884363, 6.6422587 , 10.694901  , 15.58477964, 21.24315468, 27.61924939, 34.6677999 ],\n",
    "         [ 0.26924769, 1.3815549 , 3.52330232, 6.68378076, 10.78488732, 15.73930742, 21.46880014, 27.90813137, 34.99945119]]"
   ]
  },
  {
   "cell_type": "code",
   "execution_count": null,
   "metadata": {},
   "outputs": [],
   "source": [
    "f, ax = plt.subplots(1,2,figsize=(10,4), sharey=True, constrained_layout=True)\n",
    "ax[0].set_ylabel('mean melt rate [m/yr]')\n",
    "Tas = np.arange(-2,2.5,.5)\n",
    "for i, testcase in enumerate(['test1', 'test3']):\n",
    "    ref = ax[i].axvspan(-.15,.15, alpha=.1, color='purple', label='reference')\n",
    "    sm = ax[i].scatter(np.arange(-2,2.1,.5), sheet[i], c='k', label='Sheet')\n",
    "    lb, = ax[i].plot(Tas,  7*(Tas+2), c='lightgrey', label='7 m/yr/K')\n",
    "    ub, = ax[i].plot(Tas, 16*(Tas+2), c='darkgrey', label='16 m/yr/K')\n",
    "    ax[i].set_title(testcase)\n",
    "    ax[i].set_xlabel(r'ambient temperature [$^\\circ$C]')\n",
    "    for T in Tas:\n",
    "        handles = []\n",
    "        for j, model in enumerate(models):\n",
    "            if model=='Plume':\n",
    "                c = 'C0'\n",
    "                pdict={'Ta':T}\n",
    "                ds = IdealGeometry(name=testcase, pdict=pdict).create()\n",
    "                results = PlumeModel(ds).compute_plume()\n",
    "                melt = results.m.mean().values\n",
    "            elif model=='PICO':\n",
    "                c = 'C1'\n",
    "                _, results = PicoModel(name=testcase, Ta=T).compute_pico()\n",
    "                melt = results.melt.mean().values\n",
    "            elif model=='PICOP':\n",
    "                c = 'C2'\n",
    "                _, _, results = PicoPlumeModel(name=testcase, Ta=T, n=3).compute_picop()\n",
    "                melt = results.m.mean().values\n",
    "            s = ax[i].scatter(T, melt, c=c, label=model)\n",
    "            handles.append(s)\n",
    "    ax[i].legend(handles=[ref]+handles[:3]+[sm,lb,ub])"
   ]
  },
  {
   "cell_type": "code",
   "execution_count": null,
   "metadata": {},
   "outputs": [],
   "source": [
    "models"
   ]
  },
  {
   "cell_type": "code",
   "execution_count": null,
   "metadata": {},
   "outputs": [],
   "source": [
    "f, ax = plt.subplots(2,1,figsize=(5,8), sharex=True, constrained_layout=True)\n",
    "ax[0].set_ylabel('mean melt rate [m/yr]', fontsize=14)\n",
    "ax[1].set_ylabel('sensitivity [m/yr/K]' , fontsize=14)\n",
    "ax[1].set_xlabel(r'ambient temperature [$^\\circ$C]', fontsize=14)\n",
    "Tas = np.arange(-2,2.5,.5)\n",
    "testcase = 'test3'\n",
    "# ref = ax[0].axvspan(-.15,.15, alpha=.1, color='purple', label='reference')\n",
    "sm  = ax[0].scatter(np.arange(-2,2.1,.5), sheet[1], c='k', label='Sheet')\n",
    "ax[1].plot(Tas, np.gradient(sheet[1], .5), c='k')\n",
    "lb, = ax[0].plot(Tas,  7*(Tas+2), c='lightgrey', label='7 m/yr/K')\n",
    "ub, = ax[0].plot(Tas, 16*(Tas+2), c='darkgrey', label='16 m/yr/K')\n",
    "ax[1].plot(Tas,  7*np.ones_like(Tas), c='lightgrey')\n",
    "ax[1].plot(Tas, 16*np.ones_like(Tas), c='darkgrey' )\n",
    "handles = []\n",
    "for j, model in enumerate(models[:-1]):\n",
    "    rates = np.zeros_like(Tas)\n",
    "    for t, T in enumerate(Tas):\n",
    "        if model=='Plume':\n",
    "            c = 'C0'\n",
    "            pdict={'Ta':T}\n",
    "            ds = IdealGeometry(name=testcase, pdict=pdict).create()\n",
    "            results = PlumeModel(ds).compute_plume()\n",
    "            melt = results.m.mean().values\n",
    "        elif model=='PICO':\n",
    "            c = 'C1'\n",
    "            _, results = PicoModel(name=testcase, Ta=T).compute_pico()\n",
    "            melt = results.melt.mean().values\n",
    "        elif model=='PICOP':\n",
    "            c = 'C2'\n",
    "            _, _, results = PicoPlumeModel(name=testcase, Ta=T, n=3).compute_picop()\n",
    "            melt = results.m.mean().values\n",
    "        rates[t] = melt\n",
    "        s = ax[0].scatter(T, melt, c=c, label=model)\n",
    "    handles.append(s)\n",
    "    ax[1].plot(np.arange(-2,2.1,.5), np.gradient(rates, .5), c=c)\n",
    "ax[0].legend(handles=handles[:3]+[sm,lb,ub], fontsize=12)\n",
    "ax[0].text(2,0, 'constant in-situ temp. & salinity', ha='right')\n",
    "ax[0].text(2,5, 'geometry = `test3`', ha='right')\n",
    "f.align_ylabels()"
   ]
  },
  {
   "cell_type": "code",
   "execution_count": null,
   "metadata": {},
   "outputs": [],
   "source": [
    "rates"
   ]
  },
  {
   "cell_type": "code",
   "execution_count": null,
   "metadata": {},
   "outputs": [],
   "source": [
    "plt.plot(np.arange(-2,2.1,.5), np.gradient(sheet[1], .5))\n"
   ]
  },
  {
   "cell_type": "markdown",
   "metadata": {},
   "source": [
    "## tanh Ta/Sa profiles"
   ]
  },
  {
   "cell_type": "code",
   "execution_count": null,
   "metadata": {},
   "outputs": [],
   "source": [
    "from ideal_geometry import Forcing"
   ]
  },
  {
   "cell_type": "code",
   "execution_count": null,
   "metadata": {},
   "outputs": [],
   "source": [
    "zts = np.arange(-700,-200,50)\n",
    "Tds = np.arange(-2,2.5,.5)\n",
    "TT, ZZ = np.meshgrid(Tds, zts)\n",
    "Mavg = np.empty((len(Tds),len(zts)))\n",
    "Mmax = np.empty((len(Tds),len(zts)))"
   ]
  },
  {
   "cell_type": "code",
   "execution_count": null,
   "metadata": {},
   "outputs": [],
   "source": [
    "plt.imshow(ZZ)\n",
    "plt.colorbar()"
   ]
  },
  {
   "cell_type": "code",
   "execution_count": null,
   "metadata": {},
   "outputs": [],
   "source": [
    "ds = xr.Dataset(coords={'z':np.arange(-5000,0,1)})"
   ]
  },
  {
   "cell_type": "code",
   "execution_count": null,
   "metadata": {},
   "outputs": [],
   "source": [
    "ds"
   ]
  },
  {
   "cell_type": "code",
   "execution_count": null,
   "metadata": {},
   "outputs": [],
   "source": [
    "Forcing().create()"
   ]
  },
  {
   "cell_type": "code",
   "execution_count": null,
   "metadata": {},
   "outputs": [],
   "source": [
    "models"
   ]
  },
  {
   "cell_type": "code",
   "execution_count": null,
   "metadata": {},
   "outputs": [],
   "source": [
    "%%time\n",
    "for j, model in enumerate(models[:2]):\n",
    "    print(j)\n",
    "    f, ax = plt.subplots(2,2,figsize=(8,8), sharey=True, constrained_layout=True)\n",
    "    f.suptitle(model)\n",
    "    ax[0,0].set_ylabel('mean melt rate [m/yr]\\nthermocline depth [m]')\n",
    "    ax[1,0].set_ylabel('max. melt rate [m/yr]\\nthermocline depth [m]')\n",
    "    for i, testcase in enumerate(['test1', 'test3']):\n",
    "        ax[1,i].set_xlabel(r'ambient temperature [$^\\circ$C]')\n",
    "        ax[0,i].set_title(testcase)\n",
    "        \n",
    "        for t, T in enumerate(Tds):\n",
    "            for z, Z in enumerate(zts):\n",
    "                ds = IdealGeometry(name=testcase, pdict=dict(Tdeep=T, ztcl=Z, name=testcase)).create()\n",
    "                if model=='Plume':\n",
    "                    results = PlumeModel(ds).compute_plume()\n",
    "                    m = 'm'\n",
    "                elif model=='PICO':\n",
    "                    _, results = PicoModel(ds=ds).compute_pico()\n",
    "                    m = 'melt'\n",
    "                elif model=='PICOP':\n",
    "                    _, _, results = PicoPlumeModel(name=testcase, Ta=T, n=3).compute_picop()\n",
    "                    m = 'm'\n",
    "                melt = results[m].mean().values\n",
    "                mmax = results[m].max().values\n",
    "                \n",
    "            Mavg[t,z] = melt\n",
    "            Mmax[t,z] = mmax\n",
    "        ax[0,i].pcolormesh(TT, ZZ, Mavg.T)\n",
    "        ax[1,i].pcolormesh(TT, ZZ, Mmax.T)"
   ]
  },
  {
   "cell_type": "code",
   "execution_count": null,
   "metadata": {},
   "outputs": [],
   "source": [
    "plt.pcolormesh(TT, ZZ, Mavg.T, vmin=0, vmax=100)\n"
   ]
  },
  {
   "cell_type": "code",
   "execution_count": null,
   "metadata": {},
   "outputs": [],
   "source": [
    "plt.pcolormesh(TT, ZZ, Mmax.T, vmin=0, vmax=100)"
   ]
  },
  {
   "cell_type": "code",
   "execution_count": null,
   "metadata": {},
   "outputs": [],
   "source": [
    "plt.imshow(Mavg, vmin=0, vmax=100)\n",
    "plt.colorbar()"
   ]
  },
  {
   "cell_type": "code",
   "execution_count": null,
   "metadata": {},
   "outputs": [],
   "source": [
    "f, ax = plt.subplots(1,2,figsize=(10,4), sharey=True, constrained_layout=True)\n"
   ]
  },
  {
   "cell_type": "code",
   "execution_count": null,
   "metadata": {},
   "outputs": [],
   "source": [
    "# pdict = dict(Ta=0, Sa=34)\n",
    "pdict = dict(ztcl=-700, Tdeep=0)\n",
    "\n",
    "ds = IdealGeometry(name=testcase, pdict=pdict).create()\n",
    "ds"
   ]
  },
  {
   "cell_type": "code",
   "execution_count": null,
   "metadata": {},
   "outputs": [],
   "source": [
    "ds.Tz.plot()"
   ]
  },
  {
   "cell_type": "code",
   "execution_count": null,
   "metadata": {},
   "outputs": [],
   "source": [
    "ds.Ta.plot()"
   ]
  },
  {
   "cell_type": "code",
   "execution_count": null,
   "metadata": {},
   "outputs": [],
   "source": [
    "ds.Sa.plot()"
   ]
  },
  {
   "cell_type": "code",
   "execution_count": null,
   "metadata": {},
   "outputs": [],
   "source": [
    "d = xr.Dataset(coords={'z':np.arange(-5000,0,1)})"
   ]
  },
  {
   "cell_type": "code",
   "execution_count": null,
   "metadata": {},
   "outputs": [],
   "source": [
    "d.assign_coords({'x':np.arange(4)})"
   ]
  },
  {
   "cell_type": "code",
   "execution_count": null,
   "metadata": {},
   "outputs": [],
   "source": []
  }
 ],
 "metadata": {
  "kernelspec": {
   "display_name": "Python 3",
   "language": "python",
   "name": "python3"
  },
  "language_info": {
   "codemirror_mode": {
    "name": "ipython",
    "version": 3
   },
   "file_extension": ".py",
   "mimetype": "text/x-python",
   "name": "python",
   "nbconvert_exporter": "python",
   "pygments_lexer": "ipython3",
   "version": "3.8.6"
  }
 },
 "nbformat": 4,
 "nbformat_minor": 4
}
