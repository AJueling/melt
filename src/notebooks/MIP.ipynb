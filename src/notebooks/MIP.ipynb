{
 "cells": [
  {
   "cell_type": "markdown",
   "metadata": {},
   "source": [
    "# Model Intercomparison"
   ]
  },
  {
   "cell_type": "code",
   "execution_count": null,
   "metadata": {},
   "outputs": [],
   "source": [
    "import sys\n",
    "import numpy as np\n",
    "import xarray as xr\n",
    "import matplotlib.pyplot as plt\n",
    "\n",
    "sys.path.append('..')\n",
    "\n",
    "from ideal_geometry import IdealGeometry\n",
    "from Plume import PlumeModel\n",
    "from PICO import PicoModel\n",
    "from PICOP import PicoPlumeModel\n",
    "\n",
    "%config InlineBackend.print_figure_kwargs={'bbox_inches':None}\n",
    "%load_ext autoreload\n",
    "%autoreload 2"
   ]
  },
  {
   "cell_type": "markdown",
   "metadata": {},
   "source": [
    "## Experiment 1: melt rated for reference setups `test1` and `test3`"
   ]
  },
  {
   "cell_type": "code",
   "execution_count": null,
   "metadata": {},
   "outputs": [],
   "source": [
    "from ideal_geometry import cases\n",
    "from real_geometry import glaciers"
   ]
  },
  {
   "cell_type": "markdown",
   "metadata": {},
   "source": [
    "## in idealidimed geometries: need to assign boxes, calc box area"
   ]
  },
  {
   "cell_type": "code",
   "execution_count": null,
   "metadata": {},
   "outputs": [],
   "source": [
    "models = ['Plume', 'PICO', 'PICOP']\n",
    "kw = dict(vmin=0, vmax=50, shading='auto', cmap='plasma')\n",
    "\n",
    "for i, testcase in enumerate(['test1', 'test2', 'test3']):\n",
    "    print('\\n', testcase, '\\n')\n",
    "    ds = IdealGeometry(testcase).create()\n",
    "    f, ax = plt.subplots(1,len(models)+1, figsize=(8,3), sharey=True, sharex=True)\n",
    "    ds.draft  .plot(ax=ax[0], vmin=-1000, vmax=-500)\n",
    "    \n",
    "    for j, model in enumerate(models):\n",
    "        if model=='Plume':\n",
    "            results = PlumeModel(ds).compute_plume()\n",
    "            ax[j+1].pcolormesh(results.x, results.y, results.m, **kw)\n",
    "            print(f'Plume melt rate {testcase}: {results.m.mean().values:.2f} m/yr')\n",
    "        elif model=='PICO':\n",
    "            _, results = PicoModel(name=testcase).compute_pico()\n",
    "            ax[j+1].pcolormesh(results.x, results.y, results.melt, **kw)\n",
    "            print(f'PICO melt rate: {results.melt.mean().values:.1f} m/yr, ({results.mk[0].values:.1f} from within PICO)')            \n",
    "        elif model=='PICOP':\n",
    "            _, _, results = PicoPlumeModel(name=testcase, n=3).compute()\n",
    "            ax[j+1].pcolormesh(results.x, results.y, results.m, **kw)\n",
    "            print(f'PICOP melt rate: {results.m.mean().values:.1f} m/yr')"
   ]
  },
  {
   "cell_type": "code",
   "execution_count": null,
   "metadata": {},
   "outputs": [],
   "source": []
  }
 ],
 "metadata": {
  "kernelspec": {
   "display_name": "Python 3",
   "language": "python",
   "name": "python3"
  },
  "language_info": {
   "codemirror_mode": {
    "name": "ipython",
    "version": 3
   },
   "file_extension": ".py",
   "mimetype": "text/x-python",
   "name": "python",
   "nbconvert_exporter": "python",
   "pygments_lexer": "ipython3",
   "version": "3.8.6"
  }
 },
 "nbformat": 4,
 "nbformat_minor": 4
}
