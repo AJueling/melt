{
 "cells": [
  {
   "cell_type": "markdown",
   "metadata": {},
   "source": [
    "# Model Intercomparison: melt patterns\n",
    "## (Figs. 2 (idealized) and 4 (real)) "
   ]
  },
  {
   "cell_type": "code",
   "execution_count": null,
   "metadata": {},
   "outputs": [],
   "source": [
    "import sys\n",
    "import numpy as np\n",
    "import xarray as xr\n",
    "import cartopy.crs as ccrs\n",
    "import geopandas\n",
    "import matplotlib\n",
    "import matplotlib.pyplot as plt\n",
    "\n",
    "sys.path.append('..')\n",
    "\n",
    "from forcing import Forcing\n",
    "from real_geometry import RealGeometry, glaciers\n",
    "from ideal_geometry import IdealGeometry\n",
    "from Plume import PlumeModel\n",
    "from PICO import PicoModel\n",
    "from PICOP import PicoPlumeModel\n",
    "from Simple import SimpleModels\n",
    "\n",
    "%config InlineBackend.print_figure_kwargs={'bbox_inches':None}\n",
    "%load_ext autoreload\n",
    "%autoreload 2"
   ]
  },
  {
   "cell_type": "markdown",
   "metadata": {},
   "source": [
    "## Experiment 1: melt rates for reference setups"
   ]
  },
  {
   "cell_type": "code",
   "execution_count": null,
   "metadata": {},
   "outputs": [],
   "source": [
    "def plot_mask(ax, ds):\n",
    "    kw_mask = dict(norm=matplotlib.colors.Normalize(vmin=-4, vmax=3), cmap=plt.get_cmap('ocean'), shading='nearest')\n",
    "    new_mask = xr.where(ds.mask==1,2,ds.mask).where(ds.mask!=3)\n",
    "    ax.pcolormesh(ds.x/1e3, ds.y/1e3, new_mask, **kw_mask)\n",
    "    return"
   ]
  },
  {
   "cell_type": "code",
   "execution_count": null,
   "metadata": {},
   "outputs": [],
   "source": [
    "models = ['Simple', 'Plume', 'PICO', 'PICOP','Layer']"
   ]
  },
  {
   "cell_type": "code",
   "execution_count": null,
   "metadata": {},
   "outputs": [],
   "source": [
    "kw = dict(shading='auto', norm=matplotlib.colors.LogNorm(vmin=.1, vmax=10**2.5), cmap='inferno')\n",
    "kw_grid = {'width_ratios': [1,1,1,.01]}\n",
    "kw_subplots = dict(constrained_layout=True)\n",
    "f, axs = plt.subplots(3, 4, figsize=(8,8), **kw_subplots, gridspec_kw=kw_grid)\n",
    "\n",
    "titles = ['a) Geometry',r'b) M$_+$', 'c) Plume', 'd) PICO', 'e) PICOP','f) Layer']\n",
    "for i in range(6):  axs[int(i/3),i%3].set_title(titles[i], loc='left')\n",
    "    \n",
    "ds = IdealGeometry('Ocean1').create()\n",
    "ds = Forcing(ds).isomip('WARM')\n",
    "depths = axs[0,0].pcolormesh(ds.x/1e3, ds.y/1e3, ds.draft, shading='nearest')\n",
    "\n",
    "\n",
    "models = ['Simple', 'Plume', 'PICO', 'PICOP','Layer']\n",
    "for j, model in enumerate(models):\n",
    "    ax = axs[int((j+1)/3),(j+1)%3]\n",
    "    if model=='Simple':\n",
    "        results = SimpleModels(ds).compute()\n",
    "        x, y, m, melt = results.x/1e3, results.y/1e3, results.Mp, results.Mp.mean().values\n",
    "    elif model=='Plume':\n",
    "        results = PlumeModel(ds).compute_plume()\n",
    "        x, y, m, melt = results.x/1e3, results.y/1e3, xr.where(results.m>0, results.m, 1e-9).where(results.mask==3), results.m.mean().values\n",
    "    elif model=='PICO':\n",
    "        _, results = PicoModel(ds).compute_pico()\n",
    "        x, y, m, melt = results.x/1e3, results.y/1e3, results.melt, results.melt.mean().values\n",
    "    elif model=='PICOP':\n",
    "        _, _, results = PicoPlumeModel(ds).compute_picop()\n",
    "        x, y, m, melt = results.x/1e3, results.y/1e3, xr.where(results.m>0, results.m, 1e-9).where(results.mask==3), results.m.mean().values\n",
    "    elif model=='Layer':\n",
    "        dl = xr.open_dataset(f'../../results/Layer/Layer_Ocean1_5_ISOMIP_0.nc')\n",
    "        x, y, m, melt = dl.x/1e3, dl.y/1e3, dl.melt.where(dl.mask==3), dl.melt.where(dl.mask==3).mean().values\n",
    "        \n",
    "    rates = ax.pcolormesh(x, y, m, **kw)\n",
    "    ax.text(.95,.5, f'{melt:.2f} m/yr', transform=ax.transAxes, ha='right', va='center', color='w', fontsize=12)\n",
    "\n",
    "        \n",
    "axs[1,1].set_xlabel('x  [km]')\n",
    "for i in range(2):\n",
    "    plt.colorbar([depths, rates][i], ax=axs[i,-1], label=['shelf base depth [m]','melt rate [m/yr]'][i])\n",
    "    axs[i,0].set_ylabel('y  [km]')\n",
    "    for j in range(3):\n",
    "        if i==0:  \n",
    "            axs[j,-1].axis('off')\n",
    "            axs[i,j].set_xticklabels([])\n",
    "        plot_mask(ax=axs[i,j], ds=ds)\n",
    "        axs[i,j].set_xlim((450,None))\n",
    "        if j>0:   axs[i,j].set_yticklabels([])\n",
    "            \n",
    "\"\"\" sensitivities \"\"\"\n",
    "ds_MIP = xr.open_dataset(f'../../results/MIP/ISOMIP_melt_rates.nc')  # created in MIP_sensitivity.ipynb\n",
    "lm = [r'$M_{+}$','Plume','PICO','PICOP','Layer']\n",
    "\n",
    "# axs[2,1].set_yticklabels([])\n",
    "axs[2,0].axhline(0, c='k', lw=.5)\n",
    "axs[2,0].plot(ds_MIP.T_bottom,  7/2*(ds_MIP.T_bottom+2), c='lightgrey', label='7 m/yr/K')\n",
    "axs[2,0].plot(ds_MIP.T_bottom, 16/2*(ds_MIP.T_bottom+2), c='darkgrey', label='16 m/yr/K')\n",
    "lb = axs[2,2].axhline( 7/2, c='lightgrey', label=r'$M_{Lev}^-$')\n",
    "ub = axs[2,2].axhline(16/2, c='darkgrey', label=r'$M_{Lev}^+$')\n",
    "for i in range(3):\n",
    "    cold = axs[2,i].axvspan(-1.95,-1.85, alpha=.1, color='blue', label='COLD')\n",
    "    warm = axs[2,i].axvspan(.95,1.05, alpha=.1, color='red', label='WARM')\n",
    "    axs[2,i].set_title(['g) mean melt', 'h) ground. zone melt', 'i) melt sensitivity'][i], loc='left')\n",
    "handles = [lb,ub]\n",
    "for j, model in enumerate(['Mp']+models[1:]):\n",
    "    ds = ds_MIP.sel({'geometry':'Ocean1', 'model':model}).copy()\n",
    "    axs[2,0].plot(ds.T_bottom, ds.melt_avg)\n",
    "    axs[2,1].plot(ds.T_bottom, ds.melt_grl)\n",
    "    s, = axs[2,2].plot(ds.T_bottom, -np.gradient(ds.melt_avg, .29), label=lm[j])  # step size in K\n",
    "    handles.append(s)\n",
    "axs[2,0].legend(handles=[cold,warm], loc='upper center', frameon=False)\n",
    "axs[2,3].legend(handles=handles, handlelength=1.5, bbox_to_anchor=(-.2, 0.5), loc='center left')\n",
    "axs[2,1].set_xlabel(r'bottom potential temperature [$^\\circ\\!$C]')\n",
    "axs[2,0].set_ylabel('melt rate [m/yr]')\n",
    "axs[2,2].yaxis.set_label_position(\"right\")\n",
    "axs[2,2].yaxis.tick_right()\n",
    "axs[2,2].set_ylabel('sensitivity [m/yr/K]')\n",
    "axs[2,2].set_ylim((0, None))\n",
    "# f.align_ylabels()\n",
    "\n",
    "plt.savefig('../../figures/ISOMIP', dpi=300)"
   ]
  }
 ],
 "metadata": {
  "kernelspec": {
   "display_name": "Python 3",
   "language": "python",
   "name": "python3"
  },
  "language_info": {
   "codemirror_mode": {
    "name": "ipython",
    "version": 3
   },
   "file_extension": ".py",
   "mimetype": "text/x-python",
   "name": "python",
   "nbconvert_exporter": "python",
   "pygments_lexer": "ipython3",
   "version": "3.8.8"
  }
 },
 "nbformat": 4,
 "nbformat_minor": 4
}
