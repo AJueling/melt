{
 "cells": [
  {
   "cell_type": "markdown",
   "metadata": {},
   "source": [
    "# The PICO model"
   ]
  },
  {
   "cell_type": "code",
   "execution_count": null,
   "metadata": {},
   "outputs": [],
   "source": [
    "import sys\n",
    "import numpy as np\n",
    "import xarray as xr\n",
    "import matplotlib\n",
    "import matplotlib.pyplot as plt\n",
    "\n",
    "sys.path.append(\"..\")\n",
    "# matplotlib.rc_file('../rc_file')\n",
    "%matplotlib inline\n",
    "%config InlineBackend.print_figure_kwargs={'bbox_inches':None}\n",
    "%load_ext autoreload\n",
    "%autoreload 2\n",
    "\n",
    "from PICO import PicoModel"
   ]
  },
  {
   "cell_type": "code",
   "execution_count": null,
   "metadata": {},
   "outputs": [],
   "source": [
    "Ta, Sa = -.73, 34.73  # from Fig. 2 of Reese et al. (2018)"
   ]
  },
  {
   "cell_type": "markdown",
   "metadata": {},
   "source": [
    "## testcase: rectangular ice shelf"
   ]
  },
  {
   "cell_type": "code",
   "execution_count": null,
   "metadata": {},
   "outputs": [],
   "source": [
    "nx, ny = 10, 3\n",
    "mask = np.ones((ny,nx))\n",
    "draft, _ = np.meshgrid(np.linspace(-1000,-500,nx), np.ones((ny)))\n",
    "grl = np.zeros((ny,nx))\n",
    "isf = np.zeros((ny,nx))\n",
    "grl[:,0] = 1\n",
    "isf[:,-1] = 1\n",
    "kwargs = {'dims':['y','x'], 'coords':{'x':np.linspace(0,1e5,nx), 'y':np.linspace(0,1e5,ny)}}\n",
    "da0 = xr.DataArray(data=draft, name='draft', **kwargs)\n",
    "da1 = xr.DataArray(data=isf  , name='isf'  , **kwargs)\n",
    "da2 = xr.DataArray(data=grl  , name='grl'  , **kwargs)\n",
    "da3 = xr.DataArray(data=mask , name='mask' , **kwargs)\n",
    "da = xr.merge([da0, da1, da2, da3])"
   ]
  },
  {
   "cell_type": "code",
   "execution_count": null,
   "metadata": {},
   "outputs": [],
   "source": [
    "ds = PicoModel(da=da, Ta=Ta, Sa=Sa, n=3).compute()"
   ]
  },
  {
   "cell_type": "code",
   "execution_count": null,
   "metadata": {},
   "outputs": [],
   "source": [
    "f, ax = plt.subplots(4, 3, figsize=(15,15))\n",
    "for i, key in enumerate(list(ds.keys())[:-1]):\n",
    "    if i<9:  kwargs = {'cbar_kwargs':{'orientation':'horizontal'}}\n",
    "    else:    kwargs = {}\n",
    "    ds[key].plot(ax=ax[int(i/3), i%3], **kwargs)"
   ]
  },
  {
   "cell_type": "markdown",
   "metadata": {},
   "source": [
    "### Totten geometry"
   ]
  },
  {
   "cell_type": "code",
   "execution_count": null,
   "metadata": {},
   "outputs": [],
   "source": [
    "da = xr.open_dataset(f'../../results/Totten.nc')"
   ]
  },
  {
   "cell_type": "code",
   "execution_count": null,
   "metadata": {},
   "outputs": [],
   "source": [
    "da"
   ]
  },
  {
   "cell_type": "code",
   "execution_count": null,
   "metadata": {},
   "outputs": [],
   "source": [
    "ds = PicoModel(da=da, Ta=Ta, Sa=Sa, n=2).compute()"
   ]
  },
  {
   "cell_type": "code",
   "execution_count": null,
   "metadata": {},
   "outputs": [],
   "source": [
    "f, ax = plt.subplots(4, 3, figsize=(15,15))\n",
    "for i, key in enumerate(list(ds.keys())[:-1]):\n",
    "    if i<9:  kwargs = {'cbar_kwargs':{'orientation':'horizontal'}}\n",
    "    else:    kwargs = {}\n",
    "    ds[key].plot(ax=ax[int(i/3), i%3], **kwargs)"
   ]
  },
  {
   "cell_type": "code",
   "execution_count": null,
   "metadata": {},
   "outputs": [],
   "source": []
  }
 ],
 "metadata": {
  "kernelspec": {
   "display_name": "Python 3",
   "language": "python",
   "name": "python3"
  },
  "language_info": {
   "codemirror_mode": {
    "name": "ipython",
    "version": 3
   },
   "file_extension": ".py",
   "mimetype": "text/x-python",
   "name": "python",
   "nbconvert_exporter": "python",
   "pygments_lexer": "ipython3",
   "version": "3.8.5"
  }
 },
 "nbformat": 4,
 "nbformat_minor": 4
}
