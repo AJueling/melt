{
 "cells": [
  {
   "cell_type": "code",
   "execution_count": null,
   "metadata": {
    "jupyter": {
     "source_hidden": true
    }
   },
   "outputs": [],
   "source": [
    "import sys\n",
    "import numpy as np\n",
    "import xarray as xr\n",
    "import pandas as pd\n",
    "import warnings\n",
    "import geopandas\n",
    "import matplotlib\n",
    "import cartopy.crs as ccrs\n",
    "import matplotlib.pyplot as plt\n",
    "\n",
    "sys.path.append(\"..\")\n",
    "# matplotlib.rc_file('../rc_file')\n",
    "%matplotlib inline\n",
    "%config InlineBackend.print_figure_kwargs={'bbox_inches':None}\n",
    "%load_ext autoreload\n",
    "%autoreload 2\n",
    "warnings.filterwarnings(\"ignore\", category=matplotlib.MatplotlibDeprecationWarning)\n",
    "\n",
    "from geometry import ModelGeometry, glaciers\n",
    "from PICO import PicoModel, table2\n",
    "from compare_models import compare_PICO"
   ]
  },
  {
   "cell_type": "markdown",
   "metadata": {},
   "source": [
    "# The PICO model\n",
    "differences to Reese et al (2018):\n",
    "- underlying datasets\n",
    "- model resolution\n",
    "- "
   ]
  },
  {
   "cell_type": "code",
   "execution_count": null,
   "metadata": {
    "jupyter": {
     "outputs_hidden": true,
     "source_hidden": true
    }
   },
   "outputs": [],
   "source": [
    "for i, glacier in enumerate(glaciers):\n",
    "    if glacier in ['Ross', 'FilchnerRonne']:  continue\n",
    "    PicoModel(glacier).compute_pico()"
   ]
  },
  {
   "cell_type": "code",
   "execution_count": null,
   "metadata": {},
   "outputs": [],
   "source": [
    "compare_PICO()"
   ]
  },
  {
   "cell_type": "markdown",
   "metadata": {},
   "source": [
    "### maps of Amundsen Sea and East Antarctica"
   ]
  },
  {
   "cell_type": "code",
   "execution_count": null,
   "metadata": {},
   "outputs": [],
   "source": [
    "proj = ccrs.SouthPolarStereo(true_scale_latitude=-71)\n",
    "def fn_poly(glacier):  return f'../../data/mask_polygons/{glacier}_polygon.geojson'\n",
    "x5, y5, _, _ = geopandas.read_file(fn_poly('MoscowUniversity'), crs='espg:3031').total_bounds\n",
    "_, _, x6, y6 = geopandas.read_file(fn_poly('Totten'), crs='espg:3031').total_bounds\n",
    "x3, _, _, y4 = geopandas.read_file(fn_poly('PineIsland'), crs='espg:3031').total_bounds\n",
    "_, y3, x4, _ = geopandas.read_file(fn_poly('Dotson'), crs='espg:3031').total_bounds\n",
    "\n",
    "import matplotlib.ticker as mticker\n",
    "\n",
    "f = plt.figure(figsize=(8,12))  # Amundsen Sea\n",
    "for i in range(2):\n",
    "    (x1,x2,y1,y2) = [(x3,x4,y3-1e4,y4+2e4),(x5-1e4,x6,y5,y6+1e4)][i]\n",
    "    shelves = [['PineIsland','Thwaites','Dotson'], ['Totten','MoscowUniversity']][i]\n",
    "    for s, shelf in enumerate(shelves):\n",
    "        (x,y) = [[(.65,.88),(.05,.55),(.05,.2)],[(.3,.8),(.4,.1)]][i][s]\n",
    "        name = [['Pine\\nIsland','Thwaites','Dotson/\\nCrosson'], ['Totten','Moscow\\nUniversity']][i][s]\n",
    "        dsg = xr.open_dataset(ModelGeometry(shelf).fn_PICO)\n",
    "        dsP = xr.open_dataset(PicoModel(shelf).fn_PICO_output)\n",
    "        lon, lat = dsg.lon, dsg.lat\n",
    "        for j in range(3):\n",
    "            q = [dsg.draft, dsg.box.where(dsg.mask), dsP.melt.where(dsg.mask)][j]\n",
    "            cmap = ['viridis', 'Spectral','inferno_r'][j]\n",
    "            (vmin,vmax) = [(-2000,0),(1,2),(0,25)][j]\n",
    "            ax = f.add_axes([j/3,.545-.54*i,.33,.45], projection=proj)\n",
    "            ax.set_frame_on(False)\n",
    "            ax.set_extent([x1,x2,y1,y2], crs=proj)\n",
    "            ax.coastlines()\n",
    "            gl = ax.gridlines()\n",
    "            \n",
    "            gl.xlocator = mticker.FixedLocator(np.arange(-180,179,5))\n",
    "            gl.ylocator = mticker.FixedLocator(np.arange(-89,89))\n",
    "            \n",
    "            im = ax.pcolormesh(lon, lat, q, transform=ccrs.PlateCarree(),\n",
    "                          cmap=cmap, vmin=vmin, vmax=vmax)\n",
    "            if i==0:  # colorbars\n",
    "                cax = f.add_axes([j/3+.02,.5,.29,.02])\n",
    "                label = ['draft [m]', 'box nr.', 'melt rate [m/yr]'][j]\n",
    "                plt.colorbar(im, cax=cax, orientation='horizontal', label=label)\n",
    "            if j==0:  ax.text(x, y, name, weight='bold', transform=ax.transAxes)\n",
    "            if j==2:  ax.text(x, y, f'{dsP.mk[0].values:.2f} m/yr', transform=ax.transAxes)"
   ]
  },
  {
   "cell_type": "code",
   "execution_count": null,
   "metadata": {},
   "outputs": [],
   "source": []
  },
  {
   "cell_type": "code",
   "execution_count": null,
   "metadata": {},
   "outputs": [],
   "source": []
  },
  {
   "cell_type": "code",
   "execution_count": null,
   "metadata": {},
   "outputs": [],
   "source": []
  },
  {
   "cell_type": "code",
   "execution_count": null,
   "metadata": {},
   "outputs": [],
   "source": []
  },
  {
   "cell_type": "markdown",
   "metadata": {},
   "source": [
    "## testcase: rectangular ice shelf"
   ]
  },
  {
   "cell_type": "code",
   "execution_count": null,
   "metadata": {},
   "outputs": [],
   "source": [
    "nx, ny = 10, 3\n",
    "mask = np.ones((ny,nx))\n",
    "draft, _ = np.meshgrid(np.linspace(-1000,-500,nx), np.ones((ny)))\n",
    "grl = np.zeros((ny,nx))\n",
    "isf = np.zeros((ny,nx))\n",
    "grl[:,0] = 1\n",
    "isf[:,-1] = 1\n",
    "kwargs = {'dims':['y','x'], 'coords':{'x':np.linspace(0,1e5,nx), 'y':np.linspace(0,1e5,ny)}}\n",
    "da0 = xr.DataArray(data=draft, name='draft', **kwargs)\n",
    "da1 = xr.DataArray(data=isf  , name='isf'  , **kwargs)\n",
    "da2 = xr.DataArray(data=grl  , name='grl'  , **kwargs)\n",
    "da3 = xr.DataArray(data=mask , name='mask' , **kwargs)\n",
    "da = xr.merge([da0, da1, da2, da3])"
   ]
  },
  {
   "cell_type": "code",
   "execution_count": null,
   "metadata": {
    "jupyter": {
     "outputs_hidden": true
    }
   },
   "outputs": [],
   "source": [
    "ds = PicoModel(name='test', Ta=Ta, Sa=Sa, n=3, ds=da).compute()"
   ]
  },
  {
   "cell_type": "code",
   "execution_count": null,
   "metadata": {
    "jupyter": {
     "outputs_hidden": true
    }
   },
   "outputs": [],
   "source": [
    "f, ax = plt.subplots(4, 3, figsize=(15,15))\n",
    "for i, key in enumerate(list(ds.keys())[:-1]):\n",
    "    if i<9:  kwargs = {'cbar_kwargs':{'orientation':'horizontal'}}\n",
    "    else:    kwargs = {}\n",
    "    ds[key].plot(ax=ax[int(i/3), i%3], **kwargs)"
   ]
  },
  {
   "cell_type": "code",
   "execution_count": null,
   "metadata": {},
   "outputs": [],
   "source": []
  }
 ],
 "metadata": {
  "kernelspec": {
   "display_name": "Python 3",
   "language": "python",
   "name": "python3"
  },
  "language_info": {
   "codemirror_mode": {
    "name": "ipython",
    "version": 3
   },
   "file_extension": ".py",
   "mimetype": "text/x-python",
   "name": "python",
   "nbconvert_exporter": "python",
   "pygments_lexer": "ipython3",
   "version": "3.8.6"
  }
 },
 "nbformat": 4,
 "nbformat_minor": 4
}
