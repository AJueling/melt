{
 "cells": [
  {
   "cell_type": "markdown",
   "metadata": {},
   "source": [
    "# The PICO model\n",
    "\n",
    "The model is based on Reese et al (2018): \"Antarctic sub-shelf melt rates via PICO\"\n",
    "\n",
    "In part (a) we test a few idealized geometries, in part (b) realistic geometries are presented.\n",
    "\n",
    "There are a few differences to the original implementation w.r.t to real geometries.\n",
    "- underlying datasets: we use the BedMachine2 data\n",
    "- model resolution: we use the BedMachine native grid at 500 m grid spacing, whereas PICO uses 5 km"
   ]
  },
  {
   "cell_type": "code",
   "execution_count": null,
   "metadata": {},
   "outputs": [],
   "source": [
    "import sys\n",
    "import numpy as np\n",
    "import xarray as xr\n",
    "import pandas as pd\n",
    "import warnings\n",
    "import geopandas\n",
    "import matplotlib\n",
    "import cartopy.crs as ccrs\n",
    "import matplotlib.pyplot as plt\n",
    "\n",
    "sys.path.append(\"..\")\n",
    "# matplotlib.rc_file('../rc_file')\n",
    "%matplotlib inline\n",
    "%config InlineBackend.print_figure_kwargs={'bbox_inches':None}\n",
    "%load_ext autoreload\n",
    "%autoreload 2\n",
    "warnings.filterwarnings(\"ignore\", category=matplotlib.MatplotlibDeprecationWarning)\n",
    "\n",
    "from real_geometry import RealGeometry, glaciers\n",
    "from PICO import PicoModel, table2\n",
    "from compare_models import compare_PICO"
   ]
  },
  {
   "cell_type": "markdown",
   "metadata": {},
   "source": [
    "## (a) idealized geometries"
   ]
  },
  {
   "cell_type": "code",
   "execution_count": null,
   "metadata": {},
   "outputs": [],
   "source": [
    "f, ax = plt.subplots(5,3, figsize=(12,12), sharey='row', constrained_layout=True)\n",
    "for i, testcase in enumerate(['test1', 'test2', 'test3']):\n",
    "    geo, ds = PicoModel(name=testcase).compute_pico()\n",
    "    geo.draft.plot(ax=ax[0,i])\n",
    "    ax[0,i].set_title(testcase)\n",
    "    ds.melt.plot(ax=ax[1,i])\n",
    "    ds.mk.plot(ax=ax[2,i])\n",
    "    ds.Tk.plot(ax=ax[3,i])\n",
    "    ds.Sk.plot(ax=ax[4,i])"
   ]
  },
  {
   "cell_type": "markdown",
   "metadata": {},
   "source": [
    "These are test geometries, the `test1` is a quasi-1D iceshelf of 100 km length with a grounding line depth of 1000 m and an ice shelf front depth of 500 m. `test2` is simply a rotated version of `test1`. `test3` has a sinusoidal grounding line profile and a flat ice shelf front profile. The geometries (arbitrarily) have 3 boxes. `boxnr=0` represents either the average (for melt) or the ambient conditions (temperature and salinity).\n",
    "\n",
    "The melt is highest near the grounding line in part because in-situ temperatures are highest there. Both temperature and salinity decrease as the plume ascends towards the ice shelf front."
   ]
  },
  {
   "cell_type": "markdown",
   "metadata": {},
   "source": [
    "## (b) real geometries\n",
    "At first execution, the code creates the real geometries from the BedMachine data and IceVelocity data (these files are too big for version control on Github, but see lines 26f in `real_geometries.py` for their location)."
   ]
  },
  {
   "cell_type": "markdown",
   "metadata": {},
   "source": [
    "### example: Thwaites glacier"
   ]
  },
  {
   "cell_type": "code",
   "execution_count": null,
   "metadata": {},
   "outputs": [],
   "source": [
    "geo, ds = PicoModel('Thwaites').compute_pico()"
   ]
  },
  {
   "cell_type": "code",
   "execution_count": null,
   "metadata": {},
   "outputs": [],
   "source": [
    "f, ax = plt.subplots(1,4, figsize=(20,4), sharey=True)\n",
    "geo.draft.plot(ax=ax[0])\n",
    "geo.rd.plot(ax=ax[1])\n",
    "geo.box.plot(ax=ax[2])\n",
    "ds.melt.plot(ax=ax[3])\n"
   ]
  },
  {
   "cell_type": "markdown",
   "metadata": {},
   "source": [
    "### comparing the 6 currently implemented ice shelves"
   ]
  },
  {
   "cell_type": "code",
   "execution_count": null,
   "metadata": {},
   "outputs": [],
   "source": [
    "for i, glacier in enumerate(glaciers):\n",
    "    if glacier in ['Ross', 'FilchnerRonne']:  # at the BedMachine resolution, these datasets are too big for laptop memory\n",
    "        continue\n",
    "    PicoModel(glacier).compute_pico()"
   ]
  },
  {
   "cell_type": "code",
   "execution_count": null,
   "metadata": {},
   "outputs": [],
   "source": [
    "compare_PICO()"
   ]
  },
  {
   "cell_type": "markdown",
   "metadata": {},
   "source": [
    "### maps of Amundsen Sea and East Antarctica"
   ]
  },
  {
   "cell_type": "code",
   "execution_count": null,
   "metadata": {},
   "outputs": [],
   "source": [
    "proj = ccrs.SouthPolarStereo(true_scale_latitude=-71)\n",
    "def fn_poly(glacier):  return f'../../data/mask_polygons/{glacier}_polygon.geojson'\n",
    "x5, y5, _, _ = geopandas.read_file(fn_poly('MoscowUniversity'), crs='espg:3031').total_bounds\n",
    "_, _, x6, y6 = geopandas.read_file(fn_poly('Totten'), crs='espg:3031').total_bounds\n",
    "x3, _, _, y4 = geopandas.read_file(fn_poly('PineIsland'), crs='espg:3031').total_bounds\n",
    "_, y3, x4, _ = geopandas.read_file(fn_poly('Dotson'), crs='espg:3031').total_bounds\n",
    "\n",
    "import matplotlib.ticker as mticker\n",
    "\n",
    "f = plt.figure(figsize=(8,12))\n",
    "for i in range(2):  # Amundsen Sea, Totten+MoscowUniversity\n",
    "    (x1,x2,y1,y2) = [(x3,x4,y3-1e4,y4+2e4),(x5-1e4,x6,y5,y6+1e4)][i]\n",
    "    shelves = [['PineIsland','Thwaites','Dotson'], ['Totten','MoscowUniversity']][i]\n",
    "    for s, shelf in enumerate(shelves):\n",
    "        (x,y) = [[(.65,.88),(.05,.55),(.05,.2)],[(.3,.8),(.4,.1)]][i][s]\n",
    "        name = [['Pine\\nIsland','Thwaites','Dotson/\\nCrosson'], ['Totten','Moscow\\nUniversity']][i][s]\n",
    "        dsg = xr.open_dataset(RealGeometry(shelf).fn_PICO)\n",
    "        dsP = xr.open_dataset(PicoModel(shelf).fn_PICO_output)\n",
    "        lon, lat = dsg.lon, dsg.lat\n",
    "        for j in range(3):\n",
    "            q = [dsg.draft, dsg.box.where(dsg.mask), dsP.melt.where(dsg.mask)][j]\n",
    "            cmap = ['viridis', 'Spectral','inferno_r'][j]\n",
    "            (vmin,vmax) = [(-2000,0),(1,2),(0,25)][j]\n",
    "            ax = f.add_axes([j/3,.545-.54*i,.33,.45], projection=proj)\n",
    "            ax.set_frame_on(False)\n",
    "            ax.set_extent([x1,x2,y1,y2], crs=proj)\n",
    "            ax.coastlines()\n",
    "            gl = ax.gridlines()\n",
    "            \n",
    "            gl.xlocator = mticker.FixedLocator(np.arange(-180,179,5))\n",
    "            gl.ylocator = mticker.FixedLocator(np.arange(-89,89))\n",
    "            \n",
    "            im = ax.pcolormesh(lon, lat, q, transform=ccrs.PlateCarree(),\n",
    "                          cmap=cmap, vmin=vmin, vmax=vmax)\n",
    "            if i==0:  # colorbars\n",
    "                cax = f.add_axes([j/3+.02,.5,.29,.02])\n",
    "                label = ['draft [m]', 'box nr.', 'melt rate [m/yr]'][j]\n",
    "                plt.colorbar(im, cax=cax, orientation='horizontal', label=label)\n",
    "            if j==0:  ax.text(x, y, name, weight='bold', transform=ax.transAxes)\n",
    "            if j==2:  ax.text(x, y, f'{dsP.mk[0].values:.2f} m/yr', transform=ax.transAxes)"
   ]
  },
  {
   "cell_type": "code",
   "execution_count": null,
   "metadata": {},
   "outputs": [],
   "source": [
    "# f, ax = plt.subplots(4, 3, figsize=(15,15))\n",
    "# for i, key in enumerate(list(ds.keys())[:-1]):\n",
    "#     if i<9:  kwargs = {'cbar_kwargs':{'orientation':'horizontal'}}\n",
    "#     else:    kwargs = {}\n",
    "#     ds[key].plot(ax=ax[int(i/3), i%3], **kwargs)"
   ]
  },
  {
   "cell_type": "code",
   "execution_count": null,
   "metadata": {},
   "outputs": [],
   "source": []
  }
 ],
 "metadata": {
  "kernelspec": {
   "display_name": "Python 3",
   "language": "python",
   "name": "python3"
  },
  "language_info": {
   "codemirror_mode": {
    "name": "ipython",
    "version": 3
   },
   "file_extension": ".py",
   "mimetype": "text/x-python",
   "name": "python",
   "nbconvert_exporter": "python",
   "pygments_lexer": "ipython3",
   "version": "3.8.6"
  }
 },
 "nbformat": 4,
 "nbformat_minor": 4
}
