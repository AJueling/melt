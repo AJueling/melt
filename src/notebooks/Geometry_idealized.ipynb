{
 "cells": [
  {
   "cell_type": "markdown",
   "metadata": {},
   "source": [
    "# idealized Geometry\n",
    "using the IdealGeometry class"
   ]
  },
  {
   "cell_type": "code",
   "execution_count": null,
   "metadata": {},
   "outputs": [],
   "source": [
    "import os\n",
    "import sys\n",
    "import numpy as np\n",
    "import xarray as xr\n",
    "import matplotlib.pyplot as plt\n",
    "\n",
    "sys.path.append('..')\n",
    "%config InlineBackend.print_figure_kwargs={'bbox_inches':None}\n",
    "%load_ext autoreload\n",
    "%autoreload 2"
   ]
  },
  {
   "cell_type": "code",
   "execution_count": null,
   "metadata": {},
   "outputs": [],
   "source": [
    "from forcing import Forcing\n",
    "from ideal_geometry import IdealGeometry, FavierTest"
   ]
  },
  {
   "cell_type": "markdown",
   "metadata": {},
   "source": [
    "## ISOMIP geometry"
   ]
  },
  {
   "cell_type": "code",
   "execution_count": null,
   "metadata": {},
   "outputs": [],
   "source": [
    "ds = IdealGeometry('test1').create()"
   ]
  },
  {
   "cell_type": "code",
   "execution_count": null,
   "metadata": {},
   "outputs": [],
   "source": [
    "ds.draft.plot()"
   ]
  },
  {
   "cell_type": "code",
   "execution_count": null,
   "metadata": {},
   "outputs": [],
   "source": [
    "ds1 = xr.open_dataset('../../data/isomip/Ocean1_input_geom_v1.01.nc')\n",
    "ds2 = xr.open_dataset('../../data/isomip/Ocean2_input_geom_v1.01.nc')\n",
    "# ds3 = xr.open_dataset('../../data/isomip/Ocean3_input_geom_v1.01.nc')\n",
    "# ds4 = xr.open_dataset('../../data/isomip/Ocean4_input_geom_v1.01.nc')\n",
    "plt.figure(figsize=(12,5))\n",
    "plt.axhline(0,c='grey',lw=.5)\n",
    "ds1.bedrockTopography.sel(y=40000,method='nearest').plot(c='k')\n",
    "for i, ds in enumerate([ds1,ds2]):  #,ds3.isel(t=0),ds3.isel(t=-1),ds4.isel(t=0),ds4.isel(t=-1)]):\n",
    "    name = ['Ocean1','Ocean2','Ocean3 start','Ocean3 end','Ocean4 start','Ocean4 end'][i]\n",
    "    c = f'C{i}'\n",
    "    ds_ = ds.sel(y=40000,method='nearest')\n",
    "    (ds_.upperSurface+i*20).plot(c=c, label=name)\n",
    "    (ds_.lowerSurface+i*20).plot(c=c)\n",
    "plt.title('ice shelf centre lines')\n",
    "plt.text(700000,-150,'offsets for visual clarity')\n",
    "plt.ylabel('z [m]')\n",
    "plt.legend()"
   ]
  },
  {
   "cell_type": "code",
   "execution_count": null,
   "metadata": {},
   "outputs": [],
   "source": [
    "dg1 = IdealGeometry('Ocean1').create()\n",
    "dg2 = IdealGeometry('Ocean2').create()\n",
    "\n",
    "quantities = ['draft','mask','dgrl','disf','box','alpha']\n",
    "f, ax = plt.subplots(2, len(quantities), figsize=(15,5), sharex=True, sharey=True)\n",
    "for q, Q in enumerate(quantities):\n",
    "    dg1[Q].plot(ax=ax[0,q], add_colorbar=False)\n",
    "    dg2[Q].plot(ax=ax[1,q], add_colorbar=False)\n",
    "    ax[0,q].set_title(Q)"
   ]
  },
  {
   "cell_type": "code",
   "execution_count": null,
   "metadata": {},
   "outputs": [],
   "source": [
    "dg1.alpha.plot(vmax=.00000003, figsize=(15,10))"
   ]
  },
  {
   "cell_type": "code",
   "execution_count": null,
   "metadata": {},
   "outputs": [],
   "source": []
  },
  {
   "cell_type": "code",
   "execution_count": null,
   "metadata": {},
   "outputs": [],
   "source": [
    "dg2.grl_adv.plot(figsize=(15,10))"
   ]
  },
  {
   "cell_type": "markdown",
   "metadata": {},
   "source": [
    "## idealized test geometries"
   ]
  },
  {
   "cell_type": "code",
   "execution_count": null,
   "metadata": {},
   "outputs": [],
   "source": [
    "f, ax = plt.subplots(6,3, figsize=(8,8), sharex=True, sharey=True, constrained_layout=True)\n",
    "for i in range(3):\n",
    "    if i==2:\n",
    "        cbargs = {}\n",
    "    else:\n",
    "        cbargs = dict(add_colorbar=False)\n",
    "    ax[-1,i].set_xlabel('x [km]')\n",
    "    tg = IdealGeometry(f'test{i+1}').create()\n",
    "    tg = tg.assign_coords({'x':tg.x/1e3, 'y':tg.y/1e3})\n",
    "    tg.draft  .plot(ax=ax[0,i], vmin=-1000, vmax=-500 , **cbargs)\n",
    "    tg.mask   .plot(ax=ax[1,i]                        , **cbargs)\n",
    "    tg.alpha  .plot(ax=ax[2,i], vmin=    0, vmax=0.006, **cbargs)\n",
    "    tg.dgrl   .plot(ax=ax[3,i]                        , **cbargs)\n",
    "    tg.grl_adv.plot(ax=ax[4,i], vmin=-1000, vmax=-500 , **cbargs)\n",
    "    tg.box    .plot(ax=ax[5,i]                        , **cbargs)\n",
    "for j in range(5):\n",
    "    ax[j,0].set_ylabel('y [km]')\n",
    "    "
   ]
  },
  {
   "cell_type": "code",
   "execution_count": null,
   "metadata": {},
   "outputs": [],
   "source": [
    "tg"
   ]
  },
  {
   "cell_type": "code",
   "execution_count": null,
   "metadata": {},
   "outputs": [],
   "source": [
    "ds = Forcing(tg).tanh(ztcl=-700,Tdeep=0)"
   ]
  },
  {
   "cell_type": "code",
   "execution_count": null,
   "metadata": {},
   "outputs": [],
   "source": [
    "f, ax = plt.subplots(1,2,figsize=(10,3),constrained_layout=True)\n",
    "ax[0].plot(ds.Tz, ds.z)\n",
    "ax[0].set_ylim((-1500,0))\n",
    "ds.Ta.plot(ax=ax[1])"
   ]
  },
  {
   "cell_type": "code",
   "execution_count": null,
   "metadata": {},
   "outputs": [],
   "source": [
    "ds_ = Forcing(tg).constant()"
   ]
  },
  {
   "cell_type": "code",
   "execution_count": null,
   "metadata": {},
   "outputs": [],
   "source": [
    "f, ax = plt.subplots(1,2,figsize=(10,3),constrained_layout=True)\n",
    "ax[0].plot(ds_.Tz, ds_.z)\n",
    "ax[0].set_ylim((-1500,0))\n",
    "ds_.Ta.plot(ax=ax[1])"
   ]
  },
  {
   "cell_type": "code",
   "execution_count": null,
   "metadata": {},
   "outputs": [],
   "source": []
  },
  {
   "cell_type": "markdown",
   "metadata": {},
   "source": [
    "## geometries and forcing scenarios of Favier et al. (2019)"
   ]
  },
  {
   "cell_type": "code",
   "execution_count": null,
   "metadata": {},
   "outputs": [],
   "source": [
    "iceshelves = ['fris', 'totten', 'thwaites', 'test', 'test2']\n",
    "\n",
    "f, ax = plt.subplots(3, len(iceshelves), figsize=(10,6), sharex=True, sharey=True)\n",
    "\n",
    "for i, iceshelf in enumerate(iceshelves):\n",
    "    if i==len(iceshelves)-1:\n",
    "        cbarargs = {}\n",
    "    else:\n",
    "        cbarargs = dict(add_colorbar=False)\n",
    "    ds = FavierTest(iceshelf, 'warm0')\n",
    "    ds.draft.plot(ax=ax[0,i], vmin=-1000, vmax=0   , **cbarargs)\n",
    "    ds.Ta   .plot(ax=ax[1,i], vmin= -1.2, vmax=1.2 , **cbarargs)\n",
    "    ds.Sa   .plot(ax=ax[2,i], vmin= 34  , vmax=34.8, **cbarargs)\n",
    "    ax[0,i].set_title(iceshelf)\n",
    "    "
   ]
  }
 ],
 "metadata": {
  "kernelspec": {
   "display_name": "Python 3",
   "language": "python",
   "name": "python3"
  },
  "language_info": {
   "codemirror_mode": {
    "name": "ipython",
    "version": 3
   },
   "file_extension": ".py",
   "mimetype": "text/x-python",
   "name": "python",
   "nbconvert_exporter": "python",
   "pygments_lexer": "ipython3",
   "version": "3.8.8"
  }
 },
 "nbformat": 4,
 "nbformat_minor": 4
}
