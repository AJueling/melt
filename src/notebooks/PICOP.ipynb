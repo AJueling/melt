{
 "cells": [
  {
   "cell_type": "markdown",
   "metadata": {},
   "source": [
    "# PICOP model of Pelle _et al._ (2019)\n",
    "<img src=\"../../doc/Pelle2019/Fig1.png\" width=\"800\">\n",
    "\n",
    "__Figure 1.__ Schematic diagram of PICOP with example data displayed for the Pine Island ice shelf of West Antarctica. The inputs into the parameterization are the basin-averaged ocean temperature ($^\\circ$C) and salinity (psu), which are first fed into PICO (red box). PICO uses these inputs to calculate the sub-shelf ambient ocean temperature and salinity fields, which are then used in the plume model (purple box). In addition, the grounding line height is calculated at this time by solving the advection problem defined in the green box. Once these three fields are fed into the plume model, the basal melt rate field is computed according to the steps outlined in the purple box."
   ]
  },
  {
   "cell_type": "code",
   "execution_count": null,
   "metadata": {},
   "outputs": [],
   "source": [
    "import sys\n",
    "import numpy as np\n",
    "import xarray as xr\n",
    "import matplotlib\n",
    "import matplotlib.pyplot as plt\n",
    "\n",
    "sys.path.append(\"..\")\n",
    "matplotlib.rc_file('../rc_file')\n",
    "%matplotlib inline\n",
    "%config InlineBackend.print_figure_kwargs={'bbox_inches':None}\n",
    "%load_ext autoreload\n",
    "%autoreload 2\n",
    "\n",
    "from Plume import PlumeModel\n",
    "from PICOP import PicoPlumeModel"
   ]
  },
  {
   "cell_type": "code",
   "execution_count": null,
   "metadata": {},
   "outputs": [],
   "source": [
    "da = xr.DataArray(data=np.arange(4).reshape((2,2)), dims=['x','y'], coords={'x':[1,2],'y':[3,4]})"
   ]
  },
  {
   "cell_type": "code",
   "execution_count": null,
   "metadata": {},
   "outputs": [],
   "source": [
    "da.T"
   ]
  },
  {
   "cell_type": "code",
   "execution_count": null,
   "metadata": {},
   "outputs": [],
   "source": []
  },
  {
   "cell_type": "code",
   "execution_count": null,
   "metadata": {},
   "outputs": [],
   "source": [
    "['x', 'y'].pop('x')"
   ]
  },
  {
   "cell_type": "code",
   "execution_count": null,
   "metadata": {},
   "outputs": [],
   "source": [
    "PicoPlumeModel('test2').compute_picop()"
   ]
  },
  {
   "cell_type": "markdown",
   "metadata": {},
   "source": [
    "## process:\n",
    "\n",
    "1. geometry\n",
    "    1. find bounding box\n",
    "    2. draft of ice shelf\n",
    "    3. determine grounding line and ice shelf front\n",
    "2. PICO\n",
    "    1. determine relative distance\n",
    "    2. get boxes\n",
    "    3. set external temperature\n",
    "3. grounding line depths\n",
    "    1. select and regrid surface velocity data\n",
    "    2. solve advection-diffusion equation\n",
    "4. Plume model\n",
    "    1. determine dimensionaless coordinate $\\hat{X}$\n",
    "5. "
   ]
  },
  {
   "cell_type": "code",
   "execution_count": null,
   "metadata": {},
   "outputs": [],
   "source": [
    "def create_plume_dataset(name):\n",
    "    d1 = xr.open_dataset('../../results/PICO/MoscowUniversity_n2_Ta-0.73_Sa34.73.nc')\n",
    "    d2 = xr.open_dataset('../../results/PICOP/MoscowUniversity_n2_geometry.nc')\n",
    "\n",
    "    Ta = xr.zeros_like(d2.draft)\n",
    "    Ta.name = 'Ta'\n",
    "    Ta.attrs = {'long_name':'ambient temperature from PICO model', 'units':'degC'}\n",
    "    Sa = xr.zeros_like(d2.draft)\n",
    "    Sa.name = 'Sa'\n",
    "    Sa.attrs = {'long_name':'ambient salinity from PICO model', 'units':'psu'}\n",
    "    for n in range(1,len(d1.boxnr)):\n",
    "        Ta += xr.where(d2.box==n, d1.Tk[n], 0.)\n",
    "        Sa += xr.where(d2.box==n, d1.Sk[n], 0.)\n",
    "#     alpha = ((d2.alpha.rolling(x=5).mean()+d2.alpha.rolling(y=5).mean())/2)\n",
    "#     alpha.name = 'alpha'\n",
    "    dp = xr.merge([d2.dgrl, d2.draft, d2.alpha, d2.grl_adv, Ta, Sa])\n",
    "    return dp\n",
    "\n",
    "dp = create_plume_dataset('aa')\n",
    "ds = PlumeModel(dp).compute_plume()"
   ]
  },
  {
   "cell_type": "code",
   "execution_count": null,
   "metadata": {},
   "outputs": [],
   "source": [
    "d2 = xr.open_dataset('../../results/PICOP/MoscowUniversity_n2_geometry.nc')\n",
    "alpha = xr.where(ds.alpha, ds.alpha, (d2.mask*ds.alpha.median()))"
   ]
  },
  {
   "cell_type": "code",
   "execution_count": null,
   "metadata": {},
   "outputs": [],
   "source": [
    "d2.mask.plot()"
   ]
  },
  {
   "cell_type": "code",
   "execution_count": null,
   "metadata": {},
   "outputs": [],
   "source": [
    "alpha.plot()"
   ]
  },
  {
   "cell_type": "code",
   "execution_count": null,
   "metadata": {},
   "outputs": [],
   "source": [
    "ds.alpha.plot()"
   ]
  },
  {
   "cell_type": "code",
   "execution_count": null,
   "metadata": {},
   "outputs": [],
   "source": [
    "ds.m.plot(vmin=0, vmax=100, cmap='Reds')"
   ]
  },
  {
   "cell_type": "code",
   "execution_count": null,
   "metadata": {},
   "outputs": [],
   "source": [
    "ds.phi0.plot()"
   ]
  },
  {
   "cell_type": "code",
   "execution_count": null,
   "metadata": {},
   "outputs": [],
   "source": [
    "ds.Phi.plot()"
   ]
  },
  {
   "cell_type": "code",
   "execution_count": null,
   "metadata": {},
   "outputs": [],
   "source": []
  }
 ],
 "metadata": {
  "kernelspec": {
   "display_name": "Python 3",
   "language": "python",
   "name": "python3"
  },
  "language_info": {
   "codemirror_mode": {
    "name": "ipython",
    "version": 3
   },
   "file_extension": ".py",
   "mimetype": "text/x-python",
   "name": "python",
   "nbconvert_exporter": "python",
   "pygments_lexer": "ipython3",
   "version": "3.8.6"
  }
 },
 "nbformat": 4,
 "nbformat_minor": 4
}
