{
 "cells": [
  {
   "cell_type": "markdown",
   "metadata": {},
   "source": [
    "# solcing the advection diffusion equation $v\\cdot\\nabla z_{gl} + \\epsilon \\Delta z_{gl} = 0$ in domain, $z_{gl}=\n",
    "$ on grounding line\n",
    "\n",
    "\n",
    "boundary conditions\n",
    "- Neumann (or second-type) boundary condition specifies derivatives\n",
    "- Dirichlet boundary condition specifies the values of the solution itself\n",
    "-> we want Dirichlet BC at the grounding line, Neumann BC at the ice shelf front, or maybe it is possible to set Dirichlet there too, as velocities are converging there only anyways\n",
    "\n",
    "## steps:\n",
    "\n",
    "### 1. grid\n",
    "- need to interpolate velocity and draft data onto common grid\n",
    "- figure out where the data need to live on the grid"
   ]
  },
  {
   "cell_type": "code",
   "execution_count": null,
   "metadata": {},
   "outputs": [],
   "source": [
    "import sys\n",
    "import numpy as np\n",
    "import xarray as xr\n",
    "import matplotlib\n",
    "import matplotlib.pyplot as plt\n",
    "import cartopy.crs as ccrs\n",
    "\n",
    "sys.path.append(\"..\")\n",
    "from tqdm.notebook import tqdm\n",
    "from advect import advect_grl\n",
    "# %matplotlib widget\n",
    "%matplotlib inline\n",
    "%config InlineBackend.print_figure_kwargs={'bbox_inches':None}\n",
    "%load_ext autoreload\n",
    "%autoreload 2"
   ]
  },
  {
   "cell_type": "code",
   "execution_count": null,
   "metadata": {},
   "outputs": [],
   "source": [
    "ds = xr.open_dataset('../../results/PICOP/Dotson.nc')\n",
    "ds"
   ]
  },
  {
   "cell_type": "code",
   "execution_count": null,
   "metadata": {},
   "outputs": [],
   "source": [
    "plt.figure(figsize=(10,10))\n",
    "ds.v.plot()"
   ]
  },
  {
   "cell_type": "code",
   "execution_count": null,
   "metadata": {},
   "outputs": [],
   "source": []
  },
  {
   "cell_type": "code",
   "execution_count": null,
   "metadata": {},
   "outputs": [],
   "source": []
  },
  {
   "cell_type": "code",
   "execution_count": null,
   "metadata": {},
   "outputs": [],
   "source": []
  },
  {
   "cell_type": "code",
   "execution_count": null,
   "metadata": {},
   "outputs": [],
   "source": []
  },
  {
   "cell_type": "code",
   "execution_count": null,
   "metadata": {},
   "outputs": [],
   "source": []
  },
  {
   "cell_type": "code",
   "execution_count": null,
   "metadata": {},
   "outputs": [],
   "source": []
  },
  {
   "cell_type": "code",
   "execution_count": null,
   "metadata": {},
   "outputs": [],
   "source": []
  },
  {
   "cell_type": "code",
   "execution_count": null,
   "metadata": {},
   "outputs": [],
   "source": [
    "ds"
   ]
  },
  {
   "cell_type": "code",
   "execution_count": null,
   "metadata": {},
   "outputs": [],
   "source": [
    "ds = xr.open_dataset('../../results/PICOP/Totten.nc')  # created on Cartesius in CESM env in `regrid_melt.ipynb`\n",
    "ds['u'] = ds.u.fillna(0)\n",
    "ds['v'] = ds.v.fillna(0)\n",
    "# ds['u'] = xr.where(np.isnan(ds.u), 0, ds.u)\n",
    "# ds['v'] = xr.where(np.isnan(ds.v), 0, ds.v)"
   ]
  },
  {
   "cell_type": "code",
   "execution_count": null,
   "metadata": {},
   "outputs": [],
   "source": [
    "evo = advect_grl(ds, eps=.04, T=50)"
   ]
  },
  {
   "cell_type": "code",
   "execution_count": null,
   "metadata": {},
   "outputs": [],
   "source": [
    "grl_advect = evo.isel(time=-1).drop('time')\n",
    "grl_advect.name = 'adv_grl'"
   ]
  },
  {
   "cell_type": "code",
   "execution_count": null,
   "metadata": {},
   "outputs": [],
   "source": [
    "ds.draft.plot()"
   ]
  },
  {
   "cell_type": "code",
   "execution_count": null,
   "metadata": {},
   "outputs": [],
   "source": [
    "plt.figure(figsize=(10,10))\n",
    "((ds.draft.rolling(x=5).mean()+ds.draft.rolling(y=5).mean())/2).plot()\n",
    "# (ds.draft-(ds.draft.rolling(x=5).mean()+ds.draft.rolling(y=5).mean())/2).plot()\n"
   ]
  },
  {
   "cell_type": "code",
   "execution_count": null,
   "metadata": {},
   "outputs": [],
   "source": [
    "xr.merge([ds, grl_advect.isel(dict(x=slice(1,-1), y=slice(1,-1)))])"
   ]
  },
  {
   "cell_type": "code",
   "execution_count": null,
   "metadata": {},
   "outputs": [],
   "source": [
    "xr.merge([ds, grl_advect])"
   ]
  },
  {
   "cell_type": "code",
   "execution_count": null,
   "metadata": {},
   "outputs": [],
   "source": [
    "f = plt.figure(figsize=(15,10))\n",
    "ax = plt.axes(projection=ccrs.Orthographic(central_longitude=116.33, central_latitude=-67))\n",
    "# ax.set_extent([-179,179,-85,-60])\n",
    "im = ax.pcolormesh(evo.x, evo.y, evo.isel(time=-1),#.isel({'time':-1,'x':slice(1,-1),'y':slice(1,-1)}),\n",
    "              transform=ccrs.SouthPolarStereo(true_scale_latitude=-71))\n",
    "# ax.add_feature(cartopy.feature.LAND)\n",
    "ax.coastlines()\n",
    "# xx, yy = np.meshgrid(ds.x, ds.y)\n",
    "# ax.streamplot(xx, yy, ds.u, ds.v, color='w', transform=ccrs.SouthPolarStereo(true_scale_latitude=-71))#, \n",
    "#               linewidth=np.sqrt(ds.u**2+ds.v**2).fillna(0).values/5e2)\n",
    "ax.gridlines(draw_labels=True, dms=True, x_inline=False, y_inline=False)\n",
    "plt.colorbar(im, ax=ax)\n",
    "plt.savefig('../../results/advect_grl_Totten')"
   ]
  },
  {
   "cell_type": "markdown",
   "metadata": {},
   "source": [
    "$\\frac{1}{N}\\Sigma\\sqrt{(z_t-z_{t-1})^2}$'"
   ]
  },
  {
   "cell_type": "markdown",
   "metadata": {},
   "source": [
    "## test advection-diffusion algorithm"
   ]
  },
  {
   "cell_type": "code",
   "execution_count": null,
   "metadata": {},
   "outputs": [],
   "source": [
    "# test DataArray\n",
    "nx, ny = 11, 5\n",
    "mask = np.ones((ny,nx))\n",
    "kwargs = {'dims':['y','x'], 'coords':{'x':np.linspace(0,1e5,nx), 'y':np.linspace(0,1e5,ny)}}\n",
    "da3 = xr.DataArray(data=mask , name='mask' , **kwargs)\n",
    "\n",
    "# test 1: constant slope, constant u, v=0\n",
    "draft, _ = np.meshgrid(np.linspace(-1000,-500,nx), np.ones((ny)))\n",
    "grl = np.zeros((ny,nx))\n",
    "isf = np.zeros((ny,nx))\n",
    "u = np.ones_like(draft)*1000\n",
    "v = np.zeros_like(draft)\n",
    "grl[:,0] = 1\n",
    "isf[:,-1] = 1\n",
    "da0 = xr.DataArray(data=draft, name='draft', **kwargs)\n",
    "da1 = xr.DataArray(data=isf  , name='isf'  , **kwargs)\n",
    "da2 = xr.DataArray(data=grl  , name='grl'  , **kwargs)\n",
    "da4 = xr.DataArray(data=u    , name='u'    , **kwargs)\n",
    "da5 = xr.DataArray(data=v    , name='v'    , **kwargs)\n",
    "test1 = xr.merge([da0, da1, da2, da3, da4, da5])\n",
    "\n",
    "# test 2: same as test 1 but in y direction\n",
    "_, draft = np.meshgrid( np.ones((nx)), np.linspace(-1000,-500,ny))\n",
    "grl = np.zeros((ny,nx))\n",
    "isf = np.zeros((ny,nx))\n",
    "u = np.ones_like(draft)*500\n",
    "v = np.ones_like(draft)*1000\n",
    "grl[0,:] = 1\n",
    "isf[-1,:] = 1\n",
    "kwargs = {'dims':['y','x'], 'coords':{'x':np.linspace(0,1e5,nx), 'y':np.linspace(0,1e5,ny)}}\n",
    "da0 = xr.DataArray(data=draft, name='draft', **kwargs)\n",
    "da1 = xr.DataArray(data=isf  , name='isf'  , **kwargs)\n",
    "da2 = xr.DataArray(data=grl  , name='grl'  , **kwargs)\n",
    "da4 = xr.DataArray(data=u    , name='u'    , **kwargs)\n",
    "da5 = xr.DataArray(data=v    , name='v'    , **kwargs)\n",
    "test2 = xr.merge([da0, da1, da2, da3, da4, da5])\n",
    "\n",
    "# test 3: curving grounding line\n",
    "xx, yy = np.meshgrid(np.linspace(1,0,nx), np.linspace(0,np.pi,ny))\n",
    "draft = -500-500*np.sin(yy)*xx\n",
    "grl = np.zeros((ny,nx))\n",
    "isf = np.zeros((ny,nx))\n",
    "u = np.ones_like(draft)*1000\n",
    "v = np.ones_like(draft)*500\n",
    "grl[:,0] = 1\n",
    "isf[:,-1] = 1\n",
    "da0 = xr.DataArray(data=draft, name='draft', **kwargs)\n",
    "da1 = xr.DataArray(data=isf  , name='isf'  , **kwargs)\n",
    "da2 = xr.DataArray(data=grl  , name='grl'  , **kwargs)\n",
    "da4 = xr.DataArray(data=u    , name='u'    , **kwargs)\n",
    "da5 = xr.DataArray(data=v    , name='v'    , **kwargs)\n",
    "test3 = xr.merge([da0, da1, da2, da3, da4, da5])"
   ]
  },
  {
   "cell_type": "code",
   "execution_count": null,
   "metadata": {},
   "outputs": [],
   "source": [
    "evo = advect_grl(test1, eps=0, T=100)\n",
    "plt.figure()\n",
    "evo.isel(time=-1).plot()"
   ]
  },
  {
   "cell_type": "code",
   "execution_count": null,
   "metadata": {},
   "outputs": [],
   "source": [
    "evo = advect_grl(test2, eps=0, T=100)\n",
    "plt.figure()\n",
    "evo.isel(time=-1).plot()"
   ]
  },
  {
   "cell_type": "code",
   "execution_count": null,
   "metadata": {},
   "outputs": [],
   "source": [
    "evo = advect_grl(test3, eps=100, T=500)\n",
    "plt.figure()\n",
    "evo.isel(time=-1).plot()"
   ]
  },
  {
   "cell_type": "code",
   "execution_count": null,
   "metadata": {},
   "outputs": [],
   "source": [
    "f, ax = plt.subplots(10, 5, sharey=True, sharex=True, figsize=(10,12))\n",
    "for i in range(50):\n",
    "    evo.isel(time=i).plot(ax=ax[int(i/5),i%5])#vmin=-1000, vmax=-500)"
   ]
  },
  {
   "cell_type": "code",
   "execution_count": null,
   "metadata": {},
   "outputs": [],
   "source": [
    "# test 4: diffusion only, curving grounding line\n",
    "xx, yy = np.meshgrid(np.linspace(1,0,nx), np.linspace(0,np.pi,ny))\n",
    "draft = -500-500*np.sin(yy)*xx\n",
    "grl = np.zeros((ny,nx))\n",
    "isf = np.zeros((ny,nx))\n",
    "u = np.zeros_like(draft)\n",
    "v = np.zeros_like(draft)\n",
    "grl[:,0] = 1\n",
    "isf[:,-1] = 1\n",
    "da0 = xr.DataArray(data=draft, name='draft', **kwargs)\n",
    "da1 = xr.DataArray(data=isf  , name='isf'  , **kwargs)\n",
    "da2 = xr.DataArray(data=grl  , name='grl'  , **kwargs)\n",
    "da4 = xr.DataArray(data=u    , name='u'    , **kwargs)\n",
    "da5 = xr.DataArray(data=v    , name='v'    , **kwargs)\n",
    "test4 = xr.merge([da0, da1, da2, da3, da4, da5])\n",
    "\n",
    "evo = advect_grl(test4, eps=1e7, T=20)\n",
    "plt.figure()\n",
    "evo.isel(time=-1).plot()"
   ]
  },
  {
   "cell_type": "markdown",
   "metadata": {},
   "source": [
    "### test: realistic geometry, uniform velocity"
   ]
  },
  {
   "cell_type": "code",
   "execution_count": null,
   "metadata": {},
   "outputs": [],
   "source": [
    "# real Totten IS geometry\n",
    "daT = xr.open_dataset(f'../../results/Totten.nc')\n",
    "daT['u'] = xr.full_like(daT.draft,  500)\n",
    "daT['v'] = xr.full_like(daT.draft, -500)"
   ]
  },
  {
   "cell_type": "code",
   "execution_count": null,
   "metadata": {},
   "outputs": [],
   "source": [
    "evo = advect_grl(daT, eps=.04, T=200)"
   ]
  }
 ],
 "metadata": {
  "kernelspec": {
   "display_name": "Python 3",
   "language": "python",
   "name": "python3"
  },
  "language_info": {
   "codemirror_mode": {
    "name": "ipython",
    "version": 3
   },
   "file_extension": ".py",
   "mimetype": "text/x-python",
   "name": "python",
   "nbconvert_exporter": "python",
   "pygments_lexer": "ipython3",
   "version": "3.8.5"
  }
 },
 "nbformat": 4,
 "nbformat_minor": 4
}
