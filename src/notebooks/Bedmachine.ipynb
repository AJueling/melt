{
 "cells": [
  {
   "cell_type": "markdown",
   "metadata": {},
   "source": [
    "# Totten Ice Shelf geometry"
   ]
  },
  {
   "cell_type": "code",
   "execution_count": null,
   "metadata": {},
   "outputs": [],
   "source": [
    "import sys\n",
    "import cartopy\n",
    "import shapefile\n",
    "import numpy as np\n",
    "import xarray as xr\n",
    "import pandas as pd\n",
    "import matplotlib\n",
    "import cmocean.cm as cmo\n",
    "import cartopy.crs as ccrs\n",
    "import matplotlib.pyplot as plt\n",
    "\n",
    "sys.path.append(\"..\")\n",
    "%matplotlib inline\n",
    "%config InlineBackend.print_figure_kwargs={'bbox_inches':None}\n",
    "%load_ext autoreload\n",
    "%autoreload 2"
   ]
  },
  {
   "cell_type": "markdown",
   "metadata": {},
   "source": [
    "## Bedmachine topography data"
   ]
  },
  {
   "cell_type": "code",
   "execution_count": null,
   "metadata": {},
   "outputs": [],
   "source": [
    "ds = xr.open_dataset('../../../../Downloads/BedMachineAntarctica_2019-11-05_v01.nc')"
   ]
  },
  {
   "cell_type": "code",
   "execution_count": null,
   "metadata": {},
   "outputs": [],
   "source": [
    "ds"
   ]
  },
  {
   "cell_type": "code",
   "execution_count": null,
   "metadata": {},
   "outputs": [],
   "source": [
    "%%time\n",
    "plt.figure(figsize=(20,20))\n",
    "(ds.surface-ds.thickness).where(ds.mask==3).plot()"
   ]
  },
  {
   "cell_type": "markdown",
   "metadata": {},
   "source": [
    "### selecting Totten Ice Shelf"
   ]
  },
  {
   "cell_type": "code",
   "execution_count": null,
   "metadata": {},
   "outputs": [],
   "source": [
    "xlim = slice(2.19e6,2.322e6)\n",
    "ylim = slice(-1e6,-1.3e6)\n",
    "lim = {'x':xlim, 'y':ylim}"
   ]
  },
  {
   "cell_type": "code",
   "execution_count": null,
   "metadata": {},
   "outputs": [],
   "source": [
    "mask = ds['mask'].sel(lim)\n",
    "mask.plot()"
   ]
  },
  {
   "cell_type": "markdown",
   "metadata": {},
   "source": [
    "### create grounding line and ice front masks"
   ]
  },
  {
   "cell_type": "code",
   "execution_count": null,
   "metadata": {},
   "outputs": [],
   "source": [
    "grl = xr.where(mask-mask.shift(x= 1)==1, mask, 0) + \\\n",
    "      xr.where(mask-mask.shift(x=-1)==1, mask, 0) + \\\n",
    "      xr.where(mask-mask.shift(y= 1)==1, mask, 0) + \\\n",
    "      xr.where(mask-mask.shift(y=-1)==1, mask, 0)\n",
    "grl = grl/grl\n",
    "grl.name = 'grounding_line'\n",
    "\n",
    "isf = xr.where(mask-mask.shift(x= 1)==3, mask, 0) + \\\n",
    "      xr.where(mask-mask.shift(x=-1)==3, mask, 0) + \\\n",
    "      xr.where(mask-mask.shift(y= 1)==3, mask, 0) + \\\n",
    "      xr.where(mask-mask.shift(y=-1)==3, mask, 0)\n",
    "isf = isf/isf\n",
    "isf.name = 'iceshelf_front'"
   ]
  },
  {
   "cell_type": "code",
   "execution_count": null,
   "metadata": {},
   "outputs": [],
   "source": [
    "plt.figure(figsize=(10,10), constrained_layout=True)\n",
    "# (ds.surface-ds.thickness).where(ds.mask==3).where(ds.surface>0).sel(lim).plot(**kwargs)\n",
    "grl.where(grl>0).plot(cmap='Blues', add_colorbar=False)\n",
    "isf.where(isf>0).plot(cmap='Reds' , add_colorbar=False)"
   ]
  },
  {
   "cell_type": "code",
   "execution_count": null,
   "metadata": {},
   "outputs": [],
   "source": [
    "X, Y = np.meshgrid(mask.x.values, mask.y.values)\n",
    "x = xr.DataArray(data=X, dims=['y','x'], coords={'y':mask.y,'x':mask.x})\n",
    "y = xr.DataArray(data=Y, dims=['y','x'], coords={'y':mask.y,'x':mask.x})\n",
    "\n",
    "mask_a = xr.where(mask==3, 1, 0)\n",
    "mask_b = xr.where(grl ==1, 1, 0)\n",
    "mask_c = xr.where(isf ==1, 1, 0)"
   ]
  },
  {
   "cell_type": "code",
   "execution_count": null,
   "metadata": {},
   "outputs": [],
   "source": [
    "def distance_to_line(x,y,mask_a,mask_b):\n",
    "    \"\"\" calculate minimum distance from all points in mask_a to points in mask_b\n",
    "    input:  (all 2D arrays)\n",
    "    x, y    ..  x/y coordinate xr.DataArrays\n",
    "    mask_a  ..  mask of points for which minimum distance to mask_b is determined\n",
    "    mask_b  ..  mask of line (grounding line/ ice shelf front)\n",
    "    \n",
    "    output:  reconstructed xr.DataArray with distances\n",
    "    \"\"\"\n",
    "    # stacking into single dimension\n",
    "    stackkws = {'all_points':['x','y']}\n",
    "    x_ = x.stack(**stackkws)\n",
    "    y_ = y.stack(**stackkws)\n",
    "    mask_a_ = mask_a.stack(**stackkws)\n",
    "    mask_b_ = mask_b.stack(**stackkws)\n",
    "    \n",
    "    # masking both x,y by both masks to reduce computational load\n",
    "    ma_x = x_.where(mask_a_).dropna(dim='all_points')\n",
    "    ma_y = y_.where(mask_a_).dropna(dim='all_points')\n",
    "    mb_x = x_.where(mask_b_).dropna(dim='all_points')\n",
    "    mb_y = y_.where(mask_b_).dropna(dim='all_points')\n",
    "    index = pd.MultiIndex.from_tuples(list(zip(*[ma_y.values,ma_x.values])),names=['y','x'])\n",
    "    Na, Nb = len(ma_x.values), len(mb_x.values)\n",
    "    # to indicate cost savings\n",
    "    print(f'number of points in mask_a: {Na:6d} ; percentage of total array points: {Na/len(x_)*100:5.2f} %')\n",
    "    print(f'number of points in mask_b: {Nb:6d} ; percentage of total array points: {Nb/len(x_)*100:5.2f} %')\n",
    "    \n",
    "    # calculate euclidean distance and find minimum                   \n",
    "    dist = np.min(np.sqrt((np.tile(ma_x.values,(Nb,1)) - np.tile(mb_x.values.reshape(-1,1),Na))**2 + \n",
    "                          (np.tile(ma_y.values,(Nb,1)) - np.tile(mb_y.values.reshape(-1,1),Na))**2), axis=0)\n",
    "    s = pd.Series(dist, index=index)\n",
    "    return xr.DataArray.from_series(s)"
   ]
  },
  {
   "cell_type": "code",
   "execution_count": null,
   "metadata": {},
   "outputs": [],
   "source": [
    "%%time\n",
    "# distance to grounding line\n",
    "di = distance_to_line(x,y,mask_a,mask_c)\n",
    "dg = distance_to_line(x,y,mask_a,mask_b)"
   ]
  },
  {
   "cell_type": "code",
   "execution_count": null,
   "metadata": {},
   "outputs": [],
   "source": [
    "divnorm = matplotlib.colors.DivergingNorm(vmin=-3000., vcenter=0, vmax=500)\n",
    "kwargs = {'cbar_kwargs':{'orientation':'horizontal'}}\n",
    "f, ax = plt.subplots(2, 3, figsize=(15,10), constrained_layout=True, sharey=True, sharex=True)\n",
    "\n",
    "ds.surface.where(ds.surface>0).sel(lim).plot(ax=ax[0,0], **kwargs)\n",
    "ds.bed.sel(lim).plot(ax=ax[0,1], cmap=cmo.balance, norm=divnorm, **kwargs)\n",
    "ds.thickness.where(ds.thickness>0).sel(lim).plot(ax=ax[0,2], cmap='magma_r', **kwargs)\n",
    "da_ = (ds.surface-ds.thickness).where(ds.mask==3).sel(lim)\n",
    "da_.name = 'draft [meters]'\n",
    "da_.plot(ax=ax[1,0], cmap='plasma', **kwargs, vmax=0)\n",
    "grl.where(grl>0).plot(ax=ax[1,0], cmap='Blues', add_colorbar=False)\n",
    "isf.where(isf>0).plot(ax=ax[1,0], cmap='Reds'   , add_colorbar=False)\n",
    "di.name = 'to ice shelf front [km]'\n",
    "(di/1e3).plot(ax=ax[1,1], **kwargs)\n",
    "dg.name = 'to grounding line [km]'\n",
    "(dg/1e3).plot(ax=ax[1,2], **kwargs)\n",
    "\n",
    "f.suptitle('Totten Ice Shelf', fontsize=18)\n",
    "plt.savefig('../../results/Bedmachine/TottenIS_geometry')"
   ]
  },
  {
   "cell_type": "markdown",
   "metadata": {},
   "source": [
    "## projection of bed data"
   ]
  },
  {
   "cell_type": "code",
   "execution_count": null,
   "metadata": {},
   "outputs": [],
   "source": [
    "colors_undersea = cmo.deep_r(np.linspace(0, 1, 256))\n",
    "colors_land = matplotlib.cm.cividis_r(np.linspace(0.1, .5, 256))\n",
    "all_colors = np.vstack((colors_undersea, colors_land))\n",
    "terrain_map = matplotlib.colors.LinearSegmentedColormap.from_list('terrain_map', all_colors)\n",
    "divnorm = matplotlib.colors.DivergingNorm(vmin=-6000., vcenter=0, vmax=2000)\n",
    "\n",
    "# example plot\n",
    "X = np.random.rand(5,5)*4000-2000\n",
    "plt.pcolormesh(X, cmap=terrain_map, norm=divnorm)\n",
    "plt.colorbar()"
   ]
  },
  {
   "cell_type": "code",
   "execution_count": null,
   "metadata": {},
   "outputs": [],
   "source": [
    "%%time\n",
    "plt.figure(figsize=(20,20))\n",
    "ax = plt.axes(projection=ccrs.Orthographic(central_latitude=-90, central_longitude=0))\n",
    "ax.pcolormesh(ds.x,ds.y,ds.bed, cmap=terrain_map, norm=divnorm,\n",
    "              transform=ccrs.SouthPolarStereo(true_scale_latitude=-71),\n",
    "             )\n",
    "ax.coastlines()\n",
    "ax.gridlines()"
   ]
  },
  {
   "cell_type": "markdown",
   "metadata": {},
   "source": [
    "## BAS shapefile"
   ]
  },
  {
   "cell_type": "code",
   "execution_count": null,
   "metadata": {},
   "outputs": [],
   "source": [
    "# shapefile\n",
    "sfn = '../../../../Downloads/add_coastline_high_res_polygon_v7.2/add_coastline_high_res_polygon_v7.2.shp'\n",
    "sfr = cartopy.io.shapereader.Reader(sfn)\n",
    "sfr_ = shapefile.Reader(sfn)\n",
    "# sfr_.shapeType # polygons\n",
    "len(sfr_.shapes())\n",
    "sfr_.records()"
   ]
  },
  {
   "cell_type": "code",
   "execution_count": null,
   "metadata": {},
   "outputs": [],
   "source": [
    "%%time\n",
    "plt.figure(figsize=(20,20))\n",
    "ax = plt.axes(projection=ccrs.SouthPolarStereo(true_scale_latitude=71))  # latitude mentioned here: https://epsg.io/3031\n",
    "ax.set_extent([-180, 180, -90, -60], ccrs.PlateCarree())\n",
    "shape_feature = cartopy.feature.ShapelyFeature(sfr.geometries(),\n",
    "                                               ccrs.SouthPolarStereo(true_scale_latitude=71), edgecolor='black')\n",
    "ax.add_feature(shape_feature, edgecolor='r')\n",
    "ax.coastlines()\n",
    "ax.gridlines()\n",
    "\n",
    "# theta = np.linspace(0, 2*np.pi, 100)\n",
    "# center, radius = [0.5, 0.5], 0.5\n",
    "# verts = np.vstack([np.sin(theta), np.cos(theta)]).T\n",
    "# circle = mpath.Path(verts * radius + center)\n",
    "\n",
    "# ax2.set_boundary(circle, transform=ax2.transAxes)\n"
   ]
  },
  {
   "cell_type": "markdown",
   "metadata": {},
   "source": []
  }
 ],
 "metadata": {
  "kernelspec": {
   "display_name": "Python 3",
   "language": "python",
   "name": "python3"
  },
  "language_info": {
   "codemirror_mode": {
    "name": "ipython",
    "version": 3
   },
   "file_extension": ".py",
   "mimetype": "text/x-python",
   "name": "python",
   "nbconvert_exporter": "python",
   "pygments_lexer": "ipython3",
   "version": "3.8.5"
  }
 },
 "nbformat": 4,
 "nbformat_minor": 4
}
