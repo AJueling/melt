{
 "cells": [
  {
   "cell_type": "markdown",
   "metadata": {},
   "source": [
    "# Totten Ice Shelf geometry"
   ]
  },
  {
   "cell_type": "code",
   "execution_count": null,
   "metadata": {},
   "outputs": [],
   "source": [
    "import sys\n",
    "import cartopy\n",
    "import shapefile\n",
    "import numpy as np\n",
    "import pyproj\n",
    "import xarray as xr\n",
    "import pandas as pd\n",
    "import matplotlib\n",
    "import cmocean.cm as cmo\n",
    "import cartopy.crs as ccrs\n",
    "import matplotlib.pyplot as plt\n",
    "\n",
    "sys.path.append(\"..\")\n",
    "%matplotlib inline\n",
    "# %matplotlib widget\n",
    "# %matplotlib notebook\n",
    "%config InlineBackend.print_figure_kwargs={'bbox_inches':None}\n",
    "%load_ext autoreload\n",
    "%autoreload 2\n",
    "\n",
    "from geometry import ModelGeometry"
   ]
  },
  {
   "cell_type": "code",
   "execution_count": null,
   "metadata": {},
   "outputs": [],
   "source": []
  },
  {
   "cell_type": "code",
   "execution_count": null,
   "metadata": {},
   "outputs": [],
   "source": [
    "ds = xr.open_dataset('../../../../Downloads/BedMachineAntarctica_2019-11-05_v01.nc')"
   ]
  },
  {
   "cell_type": "code",
   "execution_count": null,
   "metadata": {},
   "outputs": [],
   "source": [
    "from geometry import xlim, ylim\n",
    "for glacier in list(xlim.keys()):\n",
    "    plt.figure()\n",
    "    ds_ = ds['mask'].sel({'x':xlim[glacier], 'y':ylim[glacier]})\n",
    "    ds_.plot()"
   ]
  },
  {
   "cell_type": "markdown",
   "metadata": {},
   "source": [
    "## Bedmachine topography data"
   ]
  },
  {
   "cell_type": "code",
   "execution_count": null,
   "metadata": {},
   "outputs": [],
   "source": [
    "ds"
   ]
  },
  {
   "cell_type": "code",
   "execution_count": null,
   "metadata": {},
   "outputs": [],
   "source": [
    "%%time\n",
    "plt.figure(figsize=(10,10))\n",
    "(ds.surface-ds.thickness).where(ds.mask==3).plot()"
   ]
  },
  {
   "cell_type": "markdown",
   "metadata": {},
   "source": [
    "### selecting Totten Ice Shelf"
   ]
  },
  {
   "cell_type": "code",
   "execution_count": null,
   "metadata": {},
   "outputs": [],
   "source": [
    "xlim = slice(2.19e6,2.322e6)\n",
    "ylim = slice(-1e6,-1.3e6)\n",
    "lim = {'x':xlim, 'y':ylim}\n",
    "mask = ds['mask'].sel(lim)"
   ]
  },
  {
   "cell_type": "markdown",
   "metadata": {},
   "source": [
    "### create grounding line and ice front masks"
   ]
  },
  {
   "cell_type": "code",
   "execution_count": null,
   "metadata": {},
   "outputs": [],
   "source": [
    "grl = xr.where(mask-mask.shift(x= 1)==1, mask, 0) + \\\n",
    "      xr.where(mask-mask.shift(x=-1)==1, mask, 0) + \\\n",
    "      xr.where(mask-mask.shift(y= 1)==1, mask, 0) + \\\n",
    "      xr.where(mask-mask.shift(y=-1)==1, mask, 0)\n",
    "grl = grl/grl\n",
    "grl.name = 'grounding_line'\n",
    "\n",
    "isf = xr.where(mask-mask.shift(x= 1)==3, mask, 0) + \\\n",
    "      xr.where(mask-mask.shift(x=-1)==3, mask, 0) + \\\n",
    "      xr.where(mask-mask.shift(y= 1)==3, mask, 0) + \\\n",
    "      xr.where(mask-mask.shift(y=-1)==3, mask, 0)\n",
    "isf = isf/isf\n",
    "isf.name = 'iceshelf_front'"
   ]
  },
  {
   "cell_type": "code",
   "execution_count": null,
   "metadata": {},
   "outputs": [],
   "source": [
    "# pick points separating grounding line from pinning points\n",
    "line = [(2.1937e6,-1.2807e6),\n",
    "        (2.2077e6,-1.2057e6), \n",
    "        (2.2234e6,-1.2121e6), \n",
    "        (2.2277e6,-1.2121e6), \n",
    "        (2.2334e6,-1.1725e6), \n",
    "        (2.2429e6,-1.1593e6), \n",
    "        (2.2502e6,-1.1075e6), \n",
    "        (2.2627e6,-1.1068e6), \n",
    "        (2.2728e6,-1.0617e6),\n",
    "        (2.2974e6,-1.1226e6),\n",
    "        (2.3199e6,-1.0849e6),\n",
    "       ]\n",
    "x_, y_ = [], []\n",
    "for (x,y) in line:\n",
    "    x_.append(x)\n",
    "    y_.append(y)\n",
    "grl_ = ModelGeometry.remove_points(grl, line)\n",
    "\n",
    "line = [(2.3030e6,-1.1333e6),\n",
    "        (2.3179e6,-1.1074e6),\n",
    "       ]\n",
    "isf_ = ModelGeometry.remove_points(isf, line, direction='above')"
   ]
  },
  {
   "cell_type": "code",
   "execution_count": null,
   "metadata": {},
   "outputs": [],
   "source": [
    "plt.figure(figsize=(10,6), constrained_layout=True)\n",
    "mask.plot(alpha=.5, add_colorbar=False)\n",
    "plt.plot(x_,y_)\n",
    "grl_.where(grl_>0).plot(cmap='Blues', add_colorbar=False)\n",
    "isf_.where(isf_>0).plot(cmap='Reds' , add_colorbar=False)"
   ]
  },
  {
   "cell_type": "code",
   "execution_count": null,
   "metadata": {},
   "outputs": [],
   "source": [
    "X, Y = np.meshgrid(mask.x.values, mask.y.values)\n",
    "x = xr.DataArray(data=X, dims=['y','x'], coords={'y':mask.y,'x':mask.x})\n",
    "y = xr.DataArray(data=Y, dims=['y','x'], coords={'y':mask.y,'x':mask.x})\n",
    "\n",
    "mask_a = xr.where(mask==3, 1, 0)  # ice shelf\n",
    "mask_b = xr.where(grl_==1, 1, 0)  # grounding line\n",
    "mask_c = xr.where(isf ==1, 1, 0)  # ice shelf front"
   ]
  },
  {
   "cell_type": "code",
   "execution_count": null,
   "metadata": {},
   "outputs": [],
   "source": [
    "mask_c.plot()"
   ]
  },
  {
   "cell_type": "code",
   "execution_count": null,
   "metadata": {},
   "outputs": [],
   "source": [
    "%%time\n",
    "# distance to grounding line\n",
    "di = ModelGeometry.distance_to_line(mask_a,mask_c)\n",
    "dg = ModelGeometry.distance_to_line(mask_a,mask_b)"
   ]
  },
  {
   "cell_type": "code",
   "execution_count": null,
   "metadata": {},
   "outputs": [],
   "source": [
    "divnorm = matplotlib.colors.DivergingNorm(vmin=-3000., vcenter=0, vmax=500)\n",
    "kwargs = {'cbar_kwargs':{'orientation':'horizontal'}}\n",
    "f, ax = plt.subplots(2, 3, figsize=(15,10), constrained_layout=True, sharey=True, sharex=True)\n",
    "\n",
    "ds.surface.where(ds.surface>0).sel(lim).plot(ax=ax[0,0], **kwargs)\n",
    "ds.bed.sel(lim).plot(ax=ax[0,1], cmap=cmo.balance, norm=divnorm, **kwargs)\n",
    "ds.thickness.where(ds.thickness>0).sel(lim).plot(ax=ax[0,2], cmap='magma_r', **kwargs)\n",
    "da_ = (ds.surface-ds.thickness).where(ds.mask==3).sel(lim)\n",
    "da_.name = 'draft [meters]'\n",
    "da_.plot(ax=ax[1,0], cmap='plasma', **kwargs, vmax=0)\n",
    "grl_.where(grl_>0).plot(ax=ax[1,0], cmap='Blues', add_colorbar=False)\n",
    "isf_.where(isf_>0).plot(ax=ax[1,0], cmap='Reds'   , add_colorbar=False)\n",
    "di.name = 'to ice shelf front [km]'\n",
    "(di/1e3).plot(ax=ax[1,1], **kwargs)\n",
    "dg.name = 'to grounding line [km]'\n",
    "(dg/1e3).plot(ax=ax[1,2], **kwargs)\n",
    "\n",
    "f.suptitle('Totten Ice Shelf', fontsize=18)\n",
    "plt.savefig('../../results/Bedmachine/TottenIS_geometry')"
   ]
  },
  {
   "cell_type": "markdown",
   "metadata": {},
   "source": [
    "### add lat/lon coords and write to netcdf"
   ]
  },
  {
   "cell_type": "code",
   "execution_count": null,
   "metadata": {},
   "outputs": [],
   "source": [
    "da_.name='draft'\n",
    "grl_.name='grl'\n",
    "isf_.name='isf'\n",
    "da = xr.merge([da_, xr.where(mask==3,1,0), xr.where(grl_==1,1,0), xr.where(isf_==1,1,0)])\n",
    "\n",
    "project = pyproj.Proj(\"epsg:3031\")\n",
    "xx, yy = np.meshgrid(da.x, da.y)\n",
    "lons, lats = project(xx, yy, inverse=True)\n",
    "dims = ['y','x']\n",
    "da = da.assign_coords({'lat':(dims,lats), 'lon':(dims,lons)})\n",
    "\n",
    "da.to_netcdf(f'../../results/Totten.nc')"
   ]
  },
  {
   "cell_type": "markdown",
   "metadata": {},
   "source": [
    "## projection of bed data"
   ]
  },
  {
   "cell_type": "code",
   "execution_count": null,
   "metadata": {},
   "outputs": [],
   "source": [
    "colors_undersea = cmo.deep_r(np.linspace(0, 1, 256))\n",
    "colors_land = matplotlib.cm.cividis_r(np.linspace(0.1, .5, 256))\n",
    "all_colors = np.vstack((colors_undersea, colors_land))\n",
    "terrain_map = matplotlib.colors.LinearSegmentedColormap.from_list('terrain_map', all_colors)\n",
    "divnorm = matplotlib.colors.DivergingNorm(vmin=-6000., vcenter=0, vmax=2000)\n",
    "\n",
    "# example plot\n",
    "X = np.random.rand(5,5)*4000-2000\n",
    "plt.pcolormesh(X, cmap=terrain_map, norm=divnorm)\n",
    "plt.colorbar()"
   ]
  },
  {
   "cell_type": "code",
   "execution_count": null,
   "metadata": {},
   "outputs": [],
   "source": [
    "%%time\n",
    "plt.figure(figsize=(10,10))\n",
    "ax = plt.axes(projection=ccrs.Orthographic(central_latitude=-90, central_longitude=0))\n",
    "ax.pcolormesh(ds.x,ds.y,ds.bed, cmap=terrain_map, norm=divnorm,\n",
    "              transform=ccrs.SouthPolarStereo(true_scale_latitude=-71),\n",
    "             )\n",
    "ax.coastlines()\n",
    "ax.gridlines()\n",
    "plt.colorbar()"
   ]
  },
  {
   "cell_type": "markdown",
   "metadata": {},
   "source": []
  }
 ],
 "metadata": {
  "kernelspec": {
   "display_name": "Python 3",
   "language": "python",
   "name": "python3"
  },
  "language_info": {
   "codemirror_mode": {
    "name": "ipython",
    "version": 3
   },
   "file_extension": ".py",
   "mimetype": "text/x-python",
   "name": "python",
   "nbconvert_exporter": "python",
   "pygments_lexer": "ipython3",
   "version": "3.8.5"
  }
 },
 "nbformat": 4,
 "nbformat_minor": 4
}
