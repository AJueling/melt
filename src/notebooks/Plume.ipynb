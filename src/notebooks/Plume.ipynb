{
 "cells": [
  {
   "cell_type": "markdown",
   "metadata": {},
   "source": [
    "# Plume model by Lazeroms _et al._ (2020)"
   ]
  },
  {
   "cell_type": "code",
   "execution_count": null,
   "metadata": {},
   "outputs": [],
   "source": [
    "import sys\n",
    "import numpy as np\n",
    "import xarray as xr\n",
    "import matplotlib\n",
    "import matplotlib.pyplot as plt\n",
    "\n",
    "sys.path.append(\"..\")\n",
    "matplotlib.rc_file('../rc_file')\n",
    "%matplotlib inline\n",
    "%config InlineBackend.print_figure_kwargs={'bbox_inches':None}\n",
    "%load_ext autoreload\n",
    "%autoreload 2\n",
    "\n",
    "from Plume import PlumeModel\n",
    "\n",
    "N = 101"
   ]
  },
  {
   "cell_type": "markdown",
   "metadata": {},
   "source": [
    "## reference case"
   ]
  },
  {
   "cell_type": "code",
   "execution_count": null,
   "metadata": {},
   "outputs": [],
   "source": [
    "Ta    = -1.9   # [degC]\n",
    "Sa    = 34.65  # [psu]\n",
    "pos   = np.linspace(0,5e5,N)    # [m]\n",
    "depth = np.linspace(-1000,0,N)  # [m]\n",
    "\n",
    "ds = PlumeModel(X=pos, zb=depth, Ta=Ta, Sa=Sa).compute()"
   ]
  },
  {
   "cell_type": "code",
   "execution_count": null,
   "metadata": {},
   "outputs": [],
   "source": [
    "ds"
   ]
  },
  {
   "cell_type": "markdown",
   "metadata": {},
   "source": [
    "<img src=\"../../doc/Lazeroms2019/FigA1.png\" width=\"400\">"
   ]
  },
  {
   "cell_type": "code",
   "execution_count": null,
   "metadata": {},
   "outputs": [],
   "source": [
    "plt.axhline(c='k', lw=.5)\n",
    "ds.M.plot(label='melt rate', c='lime')\n",
    "ds.phi0.plot(label=r'circulation $\\phi_0$', c='k')\n",
    "plt.ylabel('non-dimensional quantities')\n",
    "plt.xlim((0,1))\n",
    "plt.ylim((-1,1))\n",
    "plt.legend()\n",
    "plt.savefig('../../results/Lazeroms2019/FigA1')"
   ]
  },
  {
   "cell_type": "markdown",
   "metadata": {},
   "source": [
    "## Fig. 4: varying geometries, $T_a=-1.9^\\circ C, S_a = 34.65 psu$ \n",
    "<img src=\"../../doc/Lazeroms2019/Fig4a.png\" width=\"300\">  <img src=\"../../doc/Lazeroms2019/Fig4b.png\" width=\"300\">"
   ]
  },
  {
   "cell_type": "code",
   "execution_count": null,
   "metadata": {},
   "outputs": [],
   "source": [
    "Ta    = -1.9   # [degC]\n",
    "Sa    = 34.65  # [psu]\n",
    "f, ax = plt.subplots(1,2, figsize=(8,3))\n",
    "for i in range(2):\n",
    "    ax[i].axhline(0, c='k', lw=.5)\n",
    "    ax[i].set_xlabel([r'$X$ [km]',r'$\\tilde{x}$'][i])\n",
    "    ax[i].set_ylabel([r'$\\dot{m}$  [m yr$^{-1}$]',r'$\\mathcal{M}_0$'][i])\n",
    "for i, slope in enumerate([.002,.003,.001,.002,.002]):\n",
    "    zgl = [-1000,-1000,-1000,-500,-2000][i]\n",
    "    pos = np.linspace(0,abs(zgl/slope),N)  # [m]\n",
    "    c = ['k','b','cyan','r','lime'][i]\n",
    "    depth = np.linspace(zgl,0,N)  # [m]\n",
    "    ds = PlumeModel(X=pos, zb=depth, Ta=Ta, Sa=Sa).compute()\n",
    "    ax[0].plot(ds.X/1e3, ds.m*3600*24*365, c=c)\n",
    "    if i==0:\n",
    "        ax[1].plot(ds.x, ds.M, c='k')\n",
    "ax[0].set_ylim((-5,4))\n",
    "ax[0].set_xlim((0,1000))\n",
    "ax[1].set_xlim((0,1))\n",
    "ax[1].set_ylim((-.4,.4))\n",
    "plt.savefig('../../results/Lazeroms2019/Fig4')"
   ]
  },
  {
   "cell_type": "markdown",
   "metadata": {},
   "source": [
    "## Fig. 6: varying uniform ambient temperaturs $T_a$\n",
    "<img src=\"../../doc/Lazeroms2019/Fig6.png\" width=\"600\">"
   ]
  },
  {
   "cell_type": "code",
   "execution_count": null,
   "metadata": {},
   "outputs": [],
   "source": [
    "# Fig.6 parameters\n",
    "pos   = np.linspace(0,5e5,N)    # [m]\n",
    "depth = np.linspace(-1000,0,N)  # [m]\n",
    "Sa    = 34.65                   # [psu]\n",
    "f, ax = plt.subplots(1, 3, figsize=(10,3))\n",
    "for i in range(3):\n",
    "    ax[i].axhline(0, c='k', lw=.5)\n",
    "    ax[i].set_xlabel([r'$X$ [km]',r'$\\tilde{x}$',r'$X$ [km]'][i])\n",
    "    ax[i].set_ylabel([r'$\\dot{m}$  [m yr$^{-1}$]',r'$\\mathcal{M}_0$',r'$z_b$  [m]'][i])\n",
    "cmap = matplotlib.cm.get_cmap('magma')(np.linspace(0.3,.8,6))\n",
    "for i, Ta in enumerate([-1.9,-1.1,-.3,.5,1.3,2.1]):  # [degC]\n",
    "    c = cmap[i]\n",
    "    ds = PlumeModel(X=pos, zb=depth, Ta=Ta, Sa=Sa).compute()\n",
    "    ax[0].plot(ds.X/1e3, ds.m*3600*24*365, c=c)\n",
    "    if i==0:\n",
    "        ax[1].plot(ds.x, ds.M, c='k')\n",
    "        ax[2].plot(ds.X/1e3, ds.zb)\n",
    "    ax[1].plot(ds.x_, ds.M_, c=c)\n",
    "    ax[1].scatter(ds.x_[-1], ds.M_[-1], color=c, marker='o')\n",
    "    plt.savefig('../../results/Lazeroms2019/Fig6')"
   ]
  },
  {
   "cell_type": "code",
   "execution_count": null,
   "metadata": {},
   "outputs": [],
   "source": []
  }
 ],
 "metadata": {
  "kernelspec": {
   "display_name": "Python 3",
   "language": "python",
   "name": "python3"
  },
  "language_info": {
   "codemirror_mode": {
    "name": "ipython",
    "version": 3
   },
   "file_extension": ".py",
   "mimetype": "text/x-python",
   "name": "python",
   "nbconvert_exporter": "python",
   "pygments_lexer": "ipython3",
   "version": "3.8.5"
  }
 },
 "nbformat": 4,
 "nbformat_minor": 4
}
