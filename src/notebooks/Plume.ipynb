{
 "cells": [
  {
   "cell_type": "markdown",
   "metadata": {},
   "source": [
    "# Plume model by Lazeroms _et al._ (2020)"
   ]
  },
  {
   "cell_type": "code",
   "execution_count": null,
   "metadata": {},
   "outputs": [],
   "source": [
    "import sys\n",
    "import numpy as np\n",
    "import xarray as xr\n",
    "import matplotlib\n",
    "import matplotlib.pyplot as plt\n",
    "\n",
    "sys.path.append(\"..\")\n",
    "matplotlib.rc_file('../rc_file')\n",
    "%matplotlib inline\n",
    "%config InlineBackend.print_figure_kwargs={'bbox_inches':None}\n",
    "%load_ext autoreload\n",
    "%autoreload 2\n",
    "\n",
    "from Plume import PlumeModel\n",
    "from ideal_geometry import IdealGeometry"
   ]
  },
  {
   "cell_type": "markdown",
   "metadata": {},
   "source": [
    "# 1D use"
   ]
  },
  {
   "cell_type": "markdown",
   "metadata": {},
   "source": [
    "## reference case"
   ]
  },
  {
   "cell_type": "code",
   "execution_count": null,
   "metadata": {},
   "outputs": [],
   "source": [
    "dp = IdealGeometry('plumeref').geometry()\n",
    "ds = PlumeModel(dp).compute_plume(full_nondim=True)"
   ]
  },
  {
   "cell_type": "code",
   "execution_count": null,
   "metadata": {},
   "outputs": [],
   "source": [
    "ds"
   ]
  },
  {
   "cell_type": "markdown",
   "metadata": {},
   "source": [
    "<img src=\"../../doc/Lazeroms2019/FigA1.png\" width=\"400\">"
   ]
  },
  {
   "cell_type": "code",
   "execution_count": null,
   "metadata": {},
   "outputs": [],
   "source": [
    "plt.figure()\n",
    "plt.axhline(c='k', lw=.5)\n",
    "ds.M_full.plot(label='melt rate', c='lime')\n",
    "ds.phi0_full.plot(label=r'circulation $\\phi_0$', c='k')\n",
    "plt.ylabel('non-dimensional quantities')\n",
    "plt.xlim((0,1))\n",
    "plt.ylim((-1,1))\n",
    "plt.legend()\n",
    "plt.savefig('../../results/Lazeroms2019/FigA1')"
   ]
  },
  {
   "cell_type": "markdown",
   "metadata": {},
   "source": [
    "## Fig. 4: varying geometries, $T_a=-1.9^\\circ C, S_a = 34.65 psu$ \n",
    "<img src=\"../../doc/Lazeroms2019/Fig4a.png\" width=\"300\">  <img src=\"../../doc/Lazeroms2019/Fig4b.png\" width=\"300\">"
   ]
  },
  {
   "cell_type": "code",
   "execution_count": null,
   "metadata": {},
   "outputs": [],
   "source": [
    "f, ax = plt.subplots(1,2, figsize=(8,3))\n",
    "for i in range(2):\n",
    "    ax[i].axhline(0, c='k', lw=.5)\n",
    "    ax[i].set_xlabel([r'$X$ [km]',r'$\\tilde{x}$'][i])\n",
    "    ax[i].set_ylabel([r'$\\dot{m}$  [m yr$^{-1}$]',r'$\\mathcal{M}_0$'][i])\n",
    "for i, slope in enumerate([.002,.003,.001,.002,.002]):\n",
    "    zgl = [-1000,-1000,-1000,-500,-2000][i]\n",
    "    pdict = {'x':np.linspace(0,abs(zgl/slope),N)}  # [m]\n",
    "    c = ['k','b','cyan','r','lime'][i]\n",
    "    pdict['draft'] = np.linspace(zgl,0,N)  # [m]\n",
    "    pdict['Ta'], pdict['Sa'] = -1.9, 34.65\n",
    "    dp = IdealGeometry('plume1D', pdict).geometry()\n",
    "    ds = PlumeModel(dp).compute_plume(full_nondim=True)\n",
    "    \n",
    "    ax[0].plot(ds.x/1e3, ds.m, c=c)\n",
    "    if i==0:\n",
    "        ax[1].plot(ds.x_, ds.M_full, c='k')\n",
    "ax[0].set_ylim((-5,4))\n",
    "ax[0].set_xlim((0,1000))\n",
    "ax[1].set_xlim((0,1))\n",
    "ax[1].set_ylim((-.4,.4))\n",
    "plt.savefig('../../results/Lazeroms2019/Fig4')"
   ]
  },
  {
   "cell_type": "markdown",
   "metadata": {},
   "source": [
    "## Fig. 6: varying uniform ambient temperaturs $T_a$\n",
    "<img src=\"../../doc/Lazeroms2019/Fig6.png\" width=\"600\">"
   ]
  },
  {
   "cell_type": "code",
   "execution_count": null,
   "metadata": {},
   "outputs": [],
   "source": [
    "# Fig.6 parameters\n",
    "pdict = dict(x=np.linspace(0,5e5,N), draft=np.linspace(-1000,0,N), Sa=34.65)  # [m]\n",
    "f, ax = plt.subplots(1, 3, figsize=(10,3))\n",
    "for i in range(3):\n",
    "    ax[i].axhline(0, c='k', lw=.5)\n",
    "    ax[i].set_xlabel([r'$X$ [km]',r'$\\tilde{x}$',r'$X$ [km]'][i])\n",
    "    ax[i].set_ylabel([r'$\\dot{m}$  [m yr$^{-1}$]',r'$\\mathcal{M}_0$',r'$z_b$  [m]'][i])\n",
    "cmap = matplotlib.cm.get_cmap('magma')(np.linspace(0.3,.8,6))\n",
    "for i, Ta in enumerate([-1.9,-1.1,-.3,.5,1.3,2.1]):  # [degC]\n",
    "    c = cmap[i]\n",
    "    pdict['Ta'] = Ta\n",
    "    dp = IdealGeometry('plume1D', pdict).geometry()\n",
    "    ds = PlumeModel(dp).compute_plume(full_nondim=True)\n",
    "    ax[0].plot(ds.x/1e3, ds.m, c=c)\n",
    "    if i==0:\n",
    "        ax[1].plot(ds.x_, ds.M_full, c='k')\n",
    "        ax[2].plot(ds.x/1e3, ds.draft)\n",
    "    ax[1].plot(ds.dgrl_, ds.M, c=c)\n",
    "    ax[1].scatter(ds.dgrl_[-1], ds.M[-1], color=c, marker='o')\n",
    "    plt.savefig('../../results/Lazeroms2019/Fig6')"
   ]
  },
  {
   "cell_type": "markdown",
   "metadata": {},
   "source": [
    "# 2D use"
   ]
  },
  {
   "cell_type": "code",
   "execution_count": null,
   "metadata": {},
   "outputs": [],
   "source": [
    "def create_2D_quasi_1D_plume_dataset(dp):\n",
    "        \"\"\" adds 2nd spatial dimension, to test 2D capabilities \"\"\"\n",
    "        dp = dp.expand_dims({'y':np.arange(2)})\n",
    "        return dp\n",
    "\n",
    "dp = IdealGeometry('plumeref').geometry()\n",
    "ds = PlumeModel(dp).compute_plume(full_nondim=True)\n",
    "\n",
    "dp2 = create_2D_quasi_1D_plume_dataset(dp)\n",
    "ds2 = PlumeModel(dp2).compute_plume(full_nondim=True)"
   ]
  },
  {
   "cell_type": "code",
   "execution_count": null,
   "metadata": {},
   "outputs": [],
   "source": [
    "f, ax = plt.subplots(1, 2, figsize=(8,3))\n",
    "ds.M.plot(ax=ax[0])\n",
    "ds2.M.mean('y').plot(ax=ax[0])\n",
    "\n",
    "ds.m.plot(ax=ax[1])\n",
    "ds2.m.mean('y').plot(ax=ax[1])"
   ]
  },
  {
   "cell_type": "code",
   "execution_count": null,
   "metadata": {},
   "outputs": [],
   "source": [
    "    "
   ]
  }
 ],
 "metadata": {
  "kernelspec": {
   "display_name": "Python 3",
   "language": "python",
   "name": "python3"
  },
  "language_info": {
   "codemirror_mode": {
    "name": "ipython",
    "version": 3
   },
   "file_extension": ".py",
   "mimetype": "text/x-python",
   "name": "python",
   "nbconvert_exporter": "python",
   "pygments_lexer": "ipython3",
   "version": "3.8.6"
  }
 },
 "nbformat": 4,
 "nbformat_minor": 4
}
