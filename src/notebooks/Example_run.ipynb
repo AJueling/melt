{
 "cells": [
  {
   "cell_type": "code",
   "execution_count": null,
   "metadata": {},
   "outputs": [],
   "source": [
    "import sys\n",
    "import numpy as np\n",
    "import xarray as xr\n",
    "import matplotlib\n",
    "import matplotlib.pyplot as plt\n",
    "\n",
    "sys.path.append(\"..\")\n",
    "from sheet import SheetModel\n",
    "from ideal_geometry import Forcing,IdealGeometry\n",
    "\n",
    "%matplotlib notebook\n",
    "%matplotlib inline\n",
    "%config InlineBackend.print_figure_kwargs={'bbox_inches':None}\n",
    "%load_ext autoreload\n",
    "%autoreload 2"
   ]
  },
  {
   "cell_type": "code",
   "execution_count": null,
   "metadata": {},
   "outputs": [],
   "source": [
    "\"\"\"Parameters\"\"\"\n",
    "case = 'test1' # Geometry case\n",
    "ztcl = -500    # Thermocline depth [m]\n",
    "Tdeep = -1   # Sub-thermocline temperature [degC]\n",
    "drhodz = .0001 # Stratification [kg/m3/m]\n",
    "\n",
    "\"\"\"Create input\"\"\"\n",
    "geom = IdealGeometry(case).create()\n",
    "forc = Forcing().create(ztcl,Tdeep,drhodz)\n",
    "#forc.Tz[:] = -1\n",
    "#forc.Sz[:] = 34\n",
    "inp = xr.merge([geom,forc])\n",
    "\n",
    "\"\"\"Run model\"\"\"\n",
    "sheet = SheetModel(inp)\n",
    "sheet.days = 6\n",
    "out = sheet.compute()\n",
    "\n",
    "\"\"\"Plot output\"\"\"\n",
    "sheet.plotfields()\n",
    "sheet.plotmelt(figsize=(10,10))"
   ]
  },
  {
   "cell_type": "code",
   "execution_count": null,
   "metadata": {},
   "outputs": [],
   "source": []
  }
 ],
 "metadata": {
  "kernelspec": {
   "display_name": "Python 3",
   "language": "python",
   "name": "python3"
  },
  "language_info": {
   "codemirror_mode": {
    "name": "ipython",
    "version": 3
   },
   "file_extension": ".py",
   "mimetype": "text/x-python",
   "name": "python",
   "nbconvert_exporter": "python",
   "pygments_lexer": "ipython3",
   "version": "3.6.10"
  }
 },
 "nbformat": 4,
 "nbformat_minor": 4
}
