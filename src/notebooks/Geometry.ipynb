{
 "cells": [
  {
   "cell_type": "markdown",
   "metadata": {},
   "source": [
    "# Geometry\n",
    "using the RealGeometry class"
   ]
  },
  {
   "cell_type": "code",
   "execution_count": null,
   "metadata": {},
   "outputs": [],
   "source": [
    "import sys\n",
    "import numpy as np\n",
    "import xarray as xr\n",
    "import matplotlib.pyplot as plt\n",
    "\n",
    "sys.path.append('..')\n",
    "%config InlineBackend.print_figure_kwargs={'bbox_inches':None}\n",
    "%load_ext autoreload\n",
    "%autoreload 2"
   ]
  },
  {
   "cell_type": "code",
   "execution_count": null,
   "metadata": {},
   "outputs": [],
   "source": [
    "from forcing import Forcing\n",
    "from real_geometry import RealGeometry, glaciers\n",
    "from ideal_geometry import IdealGeometry, FavierTest"
   ]
  },
  {
   "cell_type": "markdown",
   "metadata": {},
   "source": [
    "## idealized test geometries"
   ]
  },
  {
   "cell_type": "code",
   "execution_count": null,
   "metadata": {},
   "outputs": [],
   "source": [
    "f, ax = plt.subplots(6,3, figsize=(8,8), sharex=True, sharey=True, constrained_layout=True)\n",
    "for i in range(3):\n",
    "    if i==2:\n",
    "        cbargs = {}\n",
    "    else:\n",
    "        cbargs = dict(add_colorbar=False)\n",
    "    ax[-1,i].set_xlabel('x [km]')\n",
    "    tg = IdealGeometry(f'test{i+1}').create()\n",
    "    tg = tg.assign_coords({'x':tg.x/1e3, 'y':tg.y/1e3})\n",
    "    tg.draft  .plot(ax=ax[0,i], vmin=-1000, vmax=-500 , **cbargs)\n",
    "    tg.mask   .plot(ax=ax[1,i]                        , **cbargs)\n",
    "    tg.alpha  .plot(ax=ax[2,i], vmin=    0, vmax=0.006, **cbargs)\n",
    "    tg.dgrl   .plot(ax=ax[3,i]                        , **cbargs)\n",
    "    tg.grl_adv.plot(ax=ax[4,i], vmin=-1000, vmax=-500 , **cbargs)\n",
    "    tg.box    .plot(ax=ax[5,i]                        , **cbargs)\n",
    "for j in range(5):\n",
    "    ax[j,0].set_ylabel('y [km]')\n",
    "    "
   ]
  },
  {
   "cell_type": "code",
   "execution_count": null,
   "metadata": {},
   "outputs": [],
   "source": [
    "tg"
   ]
  },
  {
   "cell_type": "code",
   "execution_count": null,
   "metadata": {},
   "outputs": [],
   "source": [
    "ds = Forcing(tg).tanh(ztcl=-700,Tdeep=0)"
   ]
  },
  {
   "cell_type": "code",
   "execution_count": null,
   "metadata": {},
   "outputs": [],
   "source": [
    "f, ax = plt.subplots(1,2,figsize=(10,3),constrained_layout=True)\n",
    "ax[0].plot(ds.Tz, ds.z)\n",
    "ax[0].set_ylim((-1500,0))\n",
    "ds.Ta.plot(ax=ax[1])"
   ]
  },
  {
   "cell_type": "code",
   "execution_count": null,
   "metadata": {},
   "outputs": [],
   "source": [
    "ds_ = Forcing(tg).constant()"
   ]
  },
  {
   "cell_type": "code",
   "execution_count": null,
   "metadata": {},
   "outputs": [],
   "source": [
    "f, ax = plt.subplots(1,2,figsize=(10,3),constrained_layout=True)\n",
    "ax[0].plot(ds_.Tz, ds_.z)\n",
    "ax[0].set_ylim((-1500,0))\n",
    "ds_.Ta.plot(ax=ax[1])"
   ]
  },
  {
   "cell_type": "code",
   "execution_count": null,
   "metadata": {},
   "outputs": [],
   "source": []
  },
  {
   "cell_type": "markdown",
   "metadata": {},
   "source": [
    "## geometries and forcing scenarios of Favier et al. (2019)"
   ]
  },
  {
   "cell_type": "code",
   "execution_count": null,
   "metadata": {},
   "outputs": [],
   "source": [
    "iceshelves = ['fris', 'totten', 'thwaites', 'test', 'test2']\n",
    "\n",
    "f, ax = plt.subplots(3, len(iceshelves), figsize=(10,6), sharex=True, sharey=True)\n",
    "\n",
    "for i, iceshelf in enumerate(iceshelves):\n",
    "    if i==len(iceshelves)-1:\n",
    "        cbarargs = {}\n",
    "    else:\n",
    "        cbarargs = dict(add_colorbar=False)\n",
    "    ds = FavierTest(iceshelf, 'warm0')\n",
    "    ds.draft.plot(ax=ax[0,i], vmin=-1000, vmax=0   , **cbarargs)\n",
    "    ds.Ta   .plot(ax=ax[1,i], vmin= -1.2, vmax=1.2 , **cbarargs)\n",
    "    ds.Sa   .plot(ax=ax[2,i], vmin= 34  , vmax=34.8, **cbarargs)\n",
    "    ax[0,i].set_title(iceshelf)\n",
    "    "
   ]
  },
  {
   "cell_type": "markdown",
   "metadata": {},
   "source": [
    "## realistic geometries"
   ]
  },
  {
   "cell_type": "code",
   "execution_count": null,
   "metadata": {},
   "outputs": [],
   "source": [
    "glaciers"
   ]
  },
  {
   "cell_type": "code",
   "execution_count": null,
   "metadata": {},
   "outputs": [],
   "source": [
    "ds = xr.open_dataset('../../results/PICOP/Totten_n3_geometry.nc')"
   ]
  },
  {
   "cell_type": "code",
   "execution_count": null,
   "metadata": {},
   "outputs": [],
   "source": [
    "da = (ds.draft.rolling(x=5).mean()+ds.draft.rolling(y=5).mean())/2\n",
    "dx, dy = da.x[1]-da.x[0], da.y[1]-da.y[0]\n",
    "dxdy = abs((da.y-da.y.shift(y=1))*(da.x-da.x.shift(x=1)))\n",
    "ip1 = da.shift(x=-1)\n",
    "im1 = da.shift(x= 1)\n",
    "jp1 = da.shift(y=-1)\n",
    "jm1 = da.shift(y= 1)\n",
    "n1 = np.array([-2*dy*(ip1-im1), -2*dx*(jp1-jm1), 4*dxdy])\n",
    "n1_norm = np.linalg.norm(n1, axis=0)\n",
    "\n",
    "F = (ds.grl_adv.rolling(x=5).mean()+ds.grl_adv.rolling(x=5).mean())/2\n",
    "grad = np.gradient(F, dx.values)\n",
    "dFdx = xr.DataArray(data=grad[1], dims=da.dims, coords=da.coords)\n",
    "dFdy = xr.DataArray(data=grad[0], dims=da.dims, coords=da.coords)\n",
    "n2 = np.array([-dFdy, dFdx, xr.zeros_like(dFdx)])\n",
    "n2_norm = np.linalg.norm(n2, axis=0)\n",
    "\n",
    "alpha = abs(np.rad2deg(np.arccos((-dFdy*n1[0]+dFdx*n1[1])/n1_norm/n2_norm))-90)\n",
    "beta  = np.rad2deg(np.arccos(4*dxdy/n1_norm))"
   ]
  },
  {
   "cell_type": "code",
   "execution_count": null,
   "metadata": {},
   "outputs": [],
   "source": [
    "del alpha"
   ]
  },
  {
   "cell_type": "code",
   "execution_count": null,
   "metadata": {},
   "outputs": [],
   "source": [
    "alpha.plot(vmax=10)"
   ]
  },
  {
   "cell_type": "code",
   "execution_count": null,
   "metadata": {},
   "outputs": [],
   "source": [
    "np.deg2rad(alpha.median())"
   ]
  },
  {
   "cell_type": "code",
   "execution_count": null,
   "metadata": {},
   "outputs": [],
   "source": [
    "np.gradient(np.array([1,2,3,np.nan,np.nan,4,5,6]))"
   ]
  },
  {
   "cell_type": "code",
   "execution_count": null,
   "metadata": {},
   "outputs": [],
   "source": [
    "beta.plot(vmax=10)"
   ]
  },
  {
   "cell_type": "code",
   "execution_count": null,
   "metadata": {},
   "outputs": [],
   "source": [
    "(beta-alpha).plot()"
   ]
  },
  {
   "cell_type": "code",
   "execution_count": null,
   "metadata": {},
   "outputs": [],
   "source": []
  },
  {
   "cell_type": "code",
   "execution_count": null,
   "metadata": {},
   "outputs": [],
   "source": [
    "ddx = da.copy()\n",
    "ddy = da.copy()\n",
    "ddx.data = np.gradient(da)[1]\n",
    "ddy.data = np.gradient(da)[0]\n",
    "\n",
    "fig, ax = plt.subplots(1,3, figsize=(12,5))\n",
    "da.plot(ax=ax[0])\n",
    "ddx.plot(ax=ax[1])\n",
    "ddy.plot(ax=ax[2])\n"
   ]
  },
  {
   "cell_type": "code",
   "execution_count": null,
   "metadata": {},
   "outputs": [],
   "source": [
    "\n"
   ]
  },
  {
   "cell_type": "code",
   "execution_count": null,
   "metadata": {},
   "outputs": [],
   "source": [
    "plt.imshow(np.gradient(da)[0])"
   ]
  },
  {
   "cell_type": "markdown",
   "metadata": {},
   "source": [
    "## plots"
   ]
  },
  {
   "cell_type": "code",
   "execution_count": null,
   "metadata": {},
   "outputs": [],
   "source": [
    "for glacier in ['Amery', 'Totten', 'MoscowUniversity', 'Dotson', 'Thwaites', 'PineIsland']:\n",
    "    RealGeometry(name=glacier).plot_PICO()"
   ]
  },
  {
   "cell_type": "code",
   "execution_count": null,
   "metadata": {},
   "outputs": [],
   "source": [
    "for glacier in ['Amery', 'MoscowUniversity', 'Dotson', 'Thwaites', 'Totten', 'PineIsland']:\n",
    "    RealGeometry(name=glacier).plot_PICOP()"
   ]
  }
 ],
 "metadata": {
  "kernelspec": {
   "display_name": "Python 3",
   "language": "python",
   "name": "python3"
  },
  "language_info": {
   "codemirror_mode": {
    "name": "ipython",
    "version": 3
   },
   "file_extension": ".py",
   "mimetype": "text/x-python",
   "name": "python",
   "nbconvert_exporter": "python",
   "pygments_lexer": "ipython3",
   "version": "3.8.6"
  }
 },
 "nbformat": 4,
 "nbformat_minor": 4
}
