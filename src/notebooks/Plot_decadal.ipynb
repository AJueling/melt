{
 "cells": [
  {
   "cell_type": "code",
   "execution_count": null,
   "metadata": {},
   "outputs": [],
   "source": [
    "import sys\n",
    "import numpy as np\n",
    "import xarray as xr\n",
    "import pyproj\n",
    "import matplotlib as mpl\n",
    "import matplotlib.pyplot as plt\n",
    "from mpl_toolkits.axes_grid1 import make_axes_locatable\n",
    "from mpl_toolkits.axes_grid1.inset_locator import inset_axes\n",
    "import cmocean as cmo\n",
    "import cartopy.crs as ccrs\n",
    "\n",
    "sys.path.append(\"..\")\n",
    "\n",
    "from plotfunctions import *\n",
    "\n",
    "np.seterr(all='ignore')\n",
    "import warnings\n",
    "warnings.filterwarnings(\"ignore\")\n",
    "\n",
    "%matplotlib notebook\n",
    "%matplotlib inline\n",
    "%config InlineBackend.print_figure_kwargs={'bbox_inches':None}\n",
    "%load_ext autoreload\n",
    "%autoreload 2"
   ]
  },
  {
   "cell_type": "code",
   "execution_count": null,
   "metadata": {},
   "outputs": [],
   "source": [
    "mpl.rcParams['figure.subplot.bottom'] = .02\n",
    "mpl.rcParams['figure.subplot.top']    = .94\n",
    "mpl.rcParams['figure.subplot.left']   = .01\n",
    "mpl.rcParams['figure.subplot.right']  = .88\n",
    "mpl.rcParams['figure.subplot.wspace'] = .02\n",
    "mpl.rcParams['figure.subplot.hspace'] = .0"
   ]
  },
  {
   "cell_type": "code",
   "execution_count": null,
   "metadata": {},
   "outputs": [],
   "source": [
    "fig = plt.figure(figsize=(8,7))\n",
    "proj = ccrs.SouthPolarStereo(true_scale_latitude=-75,central_longitude=-13)\n",
    "\n",
    "ax3 = fig.add_subplot(133,projection=proj)\n",
    "makebackground(ax3)\n",
    "\n",
    "\"\"\"Layer\"\"\"\n",
    "\n",
    "for geom in ['Thwaites_e','PineIsland','CrossDots']:\n",
    "    ds = xr.open_dataset(f'../../results/Layer_{geom}_tanh_Tdeep0_ztcl-400.nc')   \n",
    "    melt1 = ds.melt\n",
    "    ds = xr.open_dataset(f'../../results/Layer_{geom}_tanh_Tdeep0_ztcl-700.nc')  \n",
    "    ds = add_lonlat(ds)\n",
    "    melt2 = ds.melt\n",
    "    dmelt = np.where(ds.mask==3,melt1-melt2,np.nan)    \n",
    "    \n",
    "    IM = plotdiffmelt(ax3,ds.lon,ds.lat,dmelt)\n",
    "\n",
    "\"\"\"Colorbar\"\"\"\n",
    "ax = fig.add_subplot(133)\n",
    "ax.set_visible(False)\n",
    "axins = inset_axes(ax,width=\"5%\",height=\"100%\",loc='lower left',bbox_to_anchor=(1.05, 0., 1, 1),bbox_transform=ax.transAxes,borderpad=0)\n",
    "cbar = plt.colorbar(IM, cax=axins,extend='max')\n",
    "\n",
    "#cbar.set_ticks([1,10,100])\n",
    "#cbar.set_ticklabels([1,10,100])\n",
    "#cbar.ax.tick_params(labelsize=21)\n",
    "cbar.set_label('Melt rate increase [m/yr]')\n",
    "\n",
    "\"\"\"Save figure\"\"\"\n",
    "plt.savefig(f\"../../figures/Decadal.png\",dpi=300)\n",
    "plt.show()"
   ]
  },
  {
   "cell_type": "code",
   "execution_count": null,
   "metadata": {},
   "outputs": [],
   "source": []
  }
 ],
 "metadata": {
  "kernelspec": {
   "display_name": "Python 3",
   "language": "python",
   "name": "python3"
  },
  "language_info": {
   "codemirror_mode": {
    "name": "ipython",
    "version": 3
   },
   "file_extension": ".py",
   "mimetype": "text/x-python",
   "name": "python",
   "nbconvert_exporter": "python",
   "pygments_lexer": "ipython3",
   "version": "3.8.5"
  }
 },
 "nbformat": 4,
 "nbformat_minor": 4
}
