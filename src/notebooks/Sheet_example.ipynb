{
 "cells": [
  {
   "cell_type": "code",
   "execution_count": null,
   "metadata": {},
   "outputs": [],
   "source": [
    "import sys\n",
    "import numpy as np\n",
    "import xarray as xr\n",
    "import matplotlib\n",
    "import matplotlib.pyplot as plt\n",
    "\n",
    "sys.path.append(\"..\")\n",
    "from sheet import SheetModel\n",
    "%matplotlib notebook\n",
    "%matplotlib inline\n",
    "%config InlineBackend.print_figure_kwargs={'bbox_inches':None}\n",
    "%load_ext autoreload\n",
    "%autoreload 2"
   ]
  },
  {
   "cell_type": "code",
   "execution_count": null,
   "metadata": {},
   "outputs": [],
   "source": [
    "#Square geometry\n",
    "\n",
    "nx,ny = 50,50\n",
    "dx,dy = 2e3,2e3\n",
    "\n",
    "x = np.arange(nx)*dx\n",
    "y = np.arange(ny)*dy\n",
    "\n",
    "zb, _ = np.meshgrid(np.linspace(-1000,0,nx), np.ones((ny)))\n",
    "\n",
    "Ta = -1 * np.ones((ny,nx))\n",
    "Sa = 34 * np.ones((ny,nx))\n",
    "\n",
    "#Floating ice:\n",
    "mask = 3*np.ones((ny,nx))\n",
    "#Grounded ice:\n",
    "mask[:,0] = 2\n",
    "mask[-1,:] = 2\n",
    "mask[0,:] = 2\n",
    "#Ocean:\n",
    "mask[:,-1] = 0\n",
    "\n",
    "kwargs = {'dims':['y','x'], 'coords':{'x':x, 'y':y}}\n",
    "da0 = xr.DataArray(data=mask , name='mask' , **kwargs)\n",
    "da1 = xr.DataArray(data=zb   , name='zb'   , **kwargs)\n",
    "da2 = xr.DataArray(data=Ta   , name='Ta'   , **kwargs)\n",
    "da3 = xr.DataArray(data=Sa   , name='Sa'   , **kwargs)\n",
    "\n",
    "da = xr.merge([da0,da1,da2,da3])\n"
   ]
  },
  {
   "cell_type": "code",
   "execution_count": null,
   "metadata": {},
   "outputs": [],
   "source": [
    "sheet = SheetModel(da)\n",
    "\n",
    "sheet.days= 6\n",
    "sheet.diagint = 100\n",
    "\n",
    "ds = sheet.compute()"
   ]
  },
  {
   "cell_type": "code",
   "execution_count": null,
   "metadata": {},
   "outputs": [],
   "source": [
    "sheet.plotfields()"
   ]
  }
 ],
 "metadata": {
  "kernelspec": {
   "display_name": "Python 3",
   "language": "python",
   "name": "python3"
  },
  "language_info": {
   "codemirror_mode": {
    "name": "ipython",
    "version": 3
   },
   "file_extension": ".py",
   "mimetype": "text/x-python",
   "name": "python",
   "nbconvert_exporter": "python",
   "pygments_lexer": "ipython3",
   "version": "3.6.10"
  }
 },
 "nbformat": 4,
 "nbformat_minor": 4
}
