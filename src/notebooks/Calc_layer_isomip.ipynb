{
 "cells": [
  {
   "cell_type": "code",
   "execution_count": null,
   "metadata": {},
   "outputs": [],
   "source": [
    "import sys\n",
    "import numpy as np\n",
    "import xarray as xr\n",
    "import matplotlib\n",
    "import matplotlib.pyplot as plt\n",
    "\n",
    "sys.path.append(\"..\")\n",
    "from forcing import Forcing\n",
    "from Layer import LayerModel\n",
    "from plotfunctions import prettyplot\n",
    "from ideal_geometry import IdealGeometry\n",
    "\n",
    "np.seterr(all='ignore')\n",
    "%matplotlib notebook\n",
    "%matplotlib inline\n",
    "%config InlineBackend.print_figure_kwargs={'bbox_inches':None}\n",
    "%load_ext autoreload\n",
    "%autoreload 2"
   ]
  },
  {
   "cell_type": "code",
   "execution_count": null,
   "metadata": {},
   "outputs": [],
   "source": [
    "%%time\n",
    "\n",
    "fracs = np.arange(0,1.1,.1)\n",
    "\n",
    "for frac in fracs:\n",
    "    ds = IdealGeometry('Ocean1').create()\n",
    "    ds = Forcing(ds).isomip_frac(frac=frac)\n",
    "    layer = LayerModel(ds)\n",
    "    layer.boundop = 1\n",
    "    ds = layer.compute(days=12)\n",
    "    prettyplot(ds,figsize=(12,5))"
   ]
  },
  {
   "cell_type": "code",
   "execution_count": null,
   "metadata": {},
   "outputs": [],
   "source": [
    "%%time\n",
    "\n",
    "Tdeeps = np.linspace(-1.9,1.1,11)\n",
    "\n",
    "for Tdeep in Tdeeps:\n",
    "    ds = IdealGeometry('Ocean1').create()\n",
    "    ds = Forcing(ds).tanh(ztcl=-360,Tdeep=Tdeep)\n",
    "    layer = LayerModel(ds)\n",
    "    layer.boundop = 1\n",
    "    ds = layer.compute(days=12)\n",
    "    prettyplot(ds,figsize=(12,5))"
   ]
  }
 ],
 "metadata": {
  "kernelspec": {
   "display_name": "Python 3",
   "language": "python",
   "name": "python3"
  },
  "language_info": {
   "codemirror_mode": {
    "name": "ipython",
    "version": 3
   },
   "file_extension": ".py",
   "mimetype": "text/x-python",
   "name": "python",
   "nbconvert_exporter": "python",
   "pygments_lexer": "ipython3",
   "version": "3.8.5"
  }
 },
 "nbformat": 4,
 "nbformat_minor": 4
}
