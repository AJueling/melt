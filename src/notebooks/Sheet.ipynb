{
 "cells": [
  {
   "cell_type": "code",
   "execution_count": null,
   "metadata": {},
   "outputs": [],
   "source": [
    "import sys\n",
    "import numpy as np\n",
    "import xarray as xr\n",
    "import matplotlib\n",
    "import matplotlib.pyplot as plt\n",
    "import cartopy.crs as ccrs\n",
    "\n",
    "sys.path.append(\"..\")\n",
    "from sheet_C import SheetModel\n",
    "%matplotlib notebook\n",
    "%matplotlib inline\n",
    "%config InlineBackend.print_figure_kwargs={'bbox_inches':None}\n",
    "%load_ext autoreload\n",
    "%autoreload 2"
   ]
  },
  {
   "cell_type": "code",
   "execution_count": null,
   "metadata": {},
   "outputs": [],
   "source": [
    "# test DataArray\n",
    "\n",
    "nx, ny = 30,30\n",
    "mask = np.ones((ny,nx))\n",
    "x = np.linspace(0,1e5,nx)\n",
    "y = np.linspace(0,1e5,ny)\n",
    "kwargs = {'dims':['y','x'], 'coords':{'x':x, 'y':y}}\n",
    "\n",
    "da0 = xr.DataArray(data=mask , name='mask' , **kwargs)"
   ]
  },
  {
   "cell_type": "code",
   "execution_count": null,
   "metadata": {},
   "outputs": [],
   "source": [
    "# test 1: constant slope, constant u, v=0\n",
    "zb, _ = np.meshgrid(np.linspace(-1000,-500,nx), np.ones((ny)))\n",
    "Ta  = 0.*mask\n",
    "Sa  = 34*mask\n",
    "\n",
    "mask[:,0] = 0\n",
    "mask[-1,:] = 0\n",
    "mask[0,:] = 0\n",
    "mask[:,-1] = 2\n",
    "\n",
    "da1 = xr.DataArray(data=zb   , name='zb'   , **kwargs)\n",
    "da2 = xr.DataArray(data=Ta   , name='Ta'   , **kwargs)\n",
    "da3 = xr.DataArray(data=Sa   , name='Sa'   , **kwargs)\n",
    "test1 = xr.merge([da0, da1, da2, da3])"
   ]
  },
  {
   "cell_type": "code",
   "execution_count": null,
   "metadata": {},
   "outputs": [],
   "source": [
    "# test 2: same as test 1 but in y direction\n",
    "_, zb = np.meshgrid( np.ones((nx)), np.linspace(-1000,-500,ny))\n",
    "Ta  = 0.*np.ones((ny,nx))\n",
    "Sa  = 34*np.ones((ny,nx))\n",
    "\n",
    "mask[:,0] = 0\n",
    "mask[-1,:] = 2\n",
    "mask[0,:] = 0\n",
    "mask[:,-1] = 0\n",
    "\n",
    "da1 = xr.DataArray(data=zb   , name='zb'   , **kwargs)\n",
    "da2 = xr.DataArray(data=Ta   , name='Ta'   , **kwargs)\n",
    "da3 = xr.DataArray(data=Sa   , name='Sa'   , **kwargs)\n",
    "test2 = xr.merge([da0, da1, da2, da3])"
   ]
  },
  {
   "cell_type": "code",
   "execution_count": null,
   "metadata": {},
   "outputs": [],
   "source": [
    "# test3: curving grounding line\n",
    "xx, yy = np.meshgrid(np.linspace(1,0,nx), np.linspace(0,np.pi,ny))\n",
    "curv = 250\n",
    "\n",
    "#zb = -500-((500-curv)+curv*np.sin(yy))*xx\n",
    "zb = -500-((500-curv)+curv*np.sin(yy)**2)*xx\n",
    "\n",
    "Ta  = 0.*np.ones((ny,nx))\n",
    "Sa  = 34*np.ones((ny,nx))\n",
    "\n",
    "mask[:,0] = 0\n",
    "mask[-1,:] = 0\n",
    "mask[0,:] = 0\n",
    "mask[:,-1] = 2\n",
    "\n",
    "da1 = xr.DataArray(data=zb   , name='zb'   , **kwargs)\n",
    "da2 = xr.DataArray(data=Ta   , name='Ta'   , **kwargs)\n",
    "da3 = xr.DataArray(data=Sa   , name='Sa'   , **kwargs)\n",
    "test3 = xr.merge([da0, da1, da2, da3])"
   ]
  },
  {
   "cell_type": "code",
   "execution_count": null,
   "metadata": {},
   "outputs": [],
   "source": [
    "sheet = SheetModel(test3,plotint=1)\n",
    "\n",
    "sheet.compute()\n",
    "\n"
   ]
  },
  {
   "cell_type": "code",
   "execution_count": null,
   "metadata": {},
   "outputs": [],
   "source": []
  },
  {
   "cell_type": "code",
   "execution_count": null,
   "metadata": {},
   "outputs": [],
   "source": []
  }
 ],
 "metadata": {
  "kernelspec": {
   "display_name": "Python 3",
   "language": "python",
   "name": "python3"
  },
  "language_info": {
   "codemirror_mode": {
    "name": "ipython",
    "version": 3
   },
   "file_extension": ".py",
   "mimetype": "text/x-python",
   "name": "python",
   "nbconvert_exporter": "python",
   "pygments_lexer": "ipython3",
   "version": "3.8.5"
  }
 },
 "nbformat": 4,
 "nbformat_minor": 4
}
